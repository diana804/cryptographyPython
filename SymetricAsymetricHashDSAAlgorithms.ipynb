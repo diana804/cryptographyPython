{
  "nbformat": 4,
  "nbformat_minor": 0,
  "metadata": {
    "kernelspec": {
      "display_name": "Python 3",
      "language": "python",
      "name": "python3"
    },
    "language_info": {
      "codemirror_mode": {
        "name": "ipython",
        "version": 3
      },
      "file_extension": ".py",
      "mimetype": "text/x-python",
      "name": "python",
      "nbconvert_exporter": "python",
      "pygments_lexer": "ipython3",
      "version": "3.8.5"
    },
    "colab": {
      "name": "Copia de SymetricAsymetricHashDSAAlgorithms.ipynb",
      "provenance": [],
      "collapsed_sections": []
    }
  },
  "cells": [
    {
      "cell_type": "code",
      "metadata": {
        "id": "5zsDtlaqH0vA",
        "colab_type": "code",
        "colab": {}
      },
      "source": [
        "## Multiple Algorithms for CryptoOps [Sym, Asym, Hash, DSA, EllipticCurve]"
      ],
      "execution_count": null,
      "outputs": []
    },
    {
      "cell_type": "code",
      "metadata": {
        "id": "pQMxICvSH-EY",
        "colab_type": "code",
        "colab": {
          "base_uri": "https://localhost:8080/",
          "height": 194
        },
        "outputId": "bd52a803-83ee-42fb-bb7c-a30d71afaca4"
      },
      "source": [
        "!pip3 install pycrypto"
      ],
      "execution_count": null,
      "outputs": [
        {
          "output_type": "stream",
          "text": [
            "Collecting pycrypto\n",
            "\u001b[?25l  Downloading https://files.pythonhosted.org/packages/60/db/645aa9af249f059cc3a368b118de33889219e0362141e75d4eaf6f80f163/pycrypto-2.6.1.tar.gz (446kB)\n",
            "\r\u001b[K     |▊                               | 10kB 15.2MB/s eta 0:00:01\r\u001b[K     |█▌                              | 20kB 3.6MB/s eta 0:00:01\r\u001b[K     |██▏                             | 30kB 4.0MB/s eta 0:00:01\r\u001b[K     |███                             | 40kB 4.1MB/s eta 0:00:01\r\u001b[K     |███▊                            | 51kB 4.3MB/s eta 0:00:01\r\u001b[K     |████▍                           | 61kB 4.7MB/s eta 0:00:01\r\u001b[K     |█████▏                          | 71kB 4.8MB/s eta 0:00:01\r\u001b[K     |█████▉                          | 81kB 5.2MB/s eta 0:00:01\r\u001b[K     |██████▋                         | 92kB 5.2MB/s eta 0:00:01\r\u001b[K     |███████▍                        | 102kB 5.6MB/s eta 0:00:01\r\u001b[K     |████████                        | 112kB 5.6MB/s eta 0:00:01\r\u001b[K     |████████▉                       | 122kB 5.6MB/s eta 0:00:01\r\u001b[K     |█████████▌                      | 133kB 5.6MB/s eta 0:00:01\r\u001b[K     |██████████▎                     | 143kB 5.6MB/s eta 0:00:01\r\u001b[K     |███████████                     | 153kB 5.6MB/s eta 0:00:01\r\u001b[K     |███████████▊                    | 163kB 5.6MB/s eta 0:00:01\r\u001b[K     |████████████▌                   | 174kB 5.6MB/s eta 0:00:01\r\u001b[K     |█████████████▏                  | 184kB 5.6MB/s eta 0:00:01\r\u001b[K     |██████████████                  | 194kB 5.6MB/s eta 0:00:01\r\u001b[K     |██████████████▊                 | 204kB 5.6MB/s eta 0:00:01\r\u001b[K     |███████████████▍                | 215kB 5.6MB/s eta 0:00:01\r\u001b[K     |████████████████▏               | 225kB 5.6MB/s eta 0:00:01\r\u001b[K     |█████████████████               | 235kB 5.6MB/s eta 0:00:01\r\u001b[K     |█████████████████▋              | 245kB 5.6MB/s eta 0:00:01\r\u001b[K     |██████████████████▍             | 256kB 5.6MB/s eta 0:00:01\r\u001b[K     |███████████████████             | 266kB 5.6MB/s eta 0:00:01\r\u001b[K     |███████████████████▉            | 276kB 5.6MB/s eta 0:00:01\r\u001b[K     |████████████████████▋           | 286kB 5.6MB/s eta 0:00:01\r\u001b[K     |█████████████████████▎          | 296kB 5.6MB/s eta 0:00:01\r\u001b[K     |██████████████████████          | 307kB 5.6MB/s eta 0:00:01\r\u001b[K     |██████████████████████▊         | 317kB 5.6MB/s eta 0:00:01\r\u001b[K     |███████████████████████▌        | 327kB 5.6MB/s eta 0:00:01\r\u001b[K     |████████████████████████▎       | 337kB 5.6MB/s eta 0:00:01\r\u001b[K     |█████████████████████████       | 348kB 5.6MB/s eta 0:00:01\r\u001b[K     |█████████████████████████▊      | 358kB 5.6MB/s eta 0:00:01\r\u001b[K     |██████████████████████████▍     | 368kB 5.6MB/s eta 0:00:01\r\u001b[K     |███████████████████████████▏    | 378kB 5.6MB/s eta 0:00:01\r\u001b[K     |████████████████████████████    | 389kB 5.6MB/s eta 0:00:01\r\u001b[K     |████████████████████████████▋   | 399kB 5.6MB/s eta 0:00:01\r\u001b[K     |█████████████████████████████▍  | 409kB 5.6MB/s eta 0:00:01\r\u001b[K     |██████████████████████████████  | 419kB 5.6MB/s eta 0:00:01\r\u001b[K     |██████████████████████████████▉ | 430kB 5.6MB/s eta 0:00:01\r\u001b[K     |███████████████████████████████▋| 440kB 5.6MB/s eta 0:00:01\r\u001b[K     |████████████████████████████████| 450kB 5.6MB/s \n",
            "\u001b[?25hBuilding wheels for collected packages: pycrypto\n",
            "  Building wheel for pycrypto (setup.py) ... \u001b[?25l\u001b[?25hdone\n",
            "  Created wheel for pycrypto: filename=pycrypto-2.6.1-cp36-cp36m-linux_x86_64.whl size=499939 sha256=2e7b1dd1d2dd7661727f76ac2c7ec33dfb475dd727fabcf0f8c1113257cfa9d0\n",
            "  Stored in directory: /root/.cache/pip/wheels/27/02/5e/77a69d0c16bb63c6ed32f5386f33a2809c94bd5414a2f6c196\n",
            "Successfully built pycrypto\n",
            "Installing collected packages: pycrypto\n",
            "Successfully installed pycrypto-2.6.1\n"
          ],
          "name": "stdout"
        }
      ]
    },
    {
      "cell_type": "code",
      "metadata": {
        "id": "V9mG61UYH0vW",
        "colab_type": "code",
        "colab": {
          "base_uri": "https://localhost:8080/",
          "height": 34
        },
        "outputId": "aee18efa-a978-4de6-e497-44ba8922936a"
      },
      "source": [
        "from Crypto.Hash import SHA256\n",
        "h = SHA256.new()\n",
        "h.update(b'Prueba')\n",
        "print(h.hexdigest())"
      ],
      "execution_count": null,
      "outputs": [
        {
          "output_type": "stream",
          "text": [
            "ac3f091ca34109c5427afb46cf83b296e2004ca9e55d3b0da8aa7434f47c69ed\n"
          ],
          "name": "stdout"
        }
      ]
    },
    {
      "cell_type": "code",
      "metadata": {
        "id": "gKpgNx7wH0vm",
        "colab_type": "code",
        "colab": {}
      },
      "source": [
        "from Crypto.Hash import SHA256\n",
        "def check_password(clear_password, password_hash):\n",
        "    return SHA256.new(clear_password).hexdigest() == password_hash"
      ],
      "execution_count": null,
      "outputs": []
    },
    {
      "cell_type": "code",
      "metadata": {
        "id": "BqvsmkKlH0vt",
        "colab_type": "code",
        "colab": {
          "base_uri": "https://localhost:8080/",
          "height": 52
        },
        "outputId": "76cbfdf0-8d93-46b8-bdd6-a57b96b10edb"
      },
      "source": [
        "from Crypto.Cipher import DES\n",
        "des = DES.new('01234567', DES.MODE_ECB)\n",
        "text = 'abcdefgh'\n",
        "cipher_text = des.encrypt(text)\n",
        "print(cipher_text)\n",
        "des.decrypt(cipher_text)"
      ],
      "execution_count": null,
      "outputs": [
        {
          "output_type": "stream",
          "text": [
            "b'\\xec\\xc2\\x9e\\xd9] a\\xd0'\n"
          ],
          "name": "stdout"
        },
        {
          "output_type": "execute_result",
          "data": {
            "text/plain": [
              "b'abcdefgh'"
            ]
          },
          "metadata": {
            "tags": []
          },
          "execution_count": 5
        }
      ]
    },
    {
      "cell_type": "code",
      "metadata": {
        "id": "wlA-1m_9H0v0",
        "colab_type": "code",
        "colab": {
          "base_uri": "https://localhost:8080/",
          "height": 52
        },
        "outputId": "6709940d-4c66-45e3-cc64-9925d8d24af7"
      },
      "source": [
        "# Crypto with Sym DES mode CFB with IV\n",
        "from Crypto.Cipher import DES\n",
        "from Crypto import Random\n",
        "iv = Random.get_random_bytes(8)\n",
        "des1 = DES.new('01234567', DES.MODE_CFB, iv)\n",
        "des2 = DES.new('01234567', DES.MODE_CFB, iv)\n",
        "text = 'abcdefghijklmnop'\n",
        "cipher_text = des1.encrypt(text)\n",
        "print(cipher_text)\n",
        "des2.decrypt(cipher_text)"
      ],
      "execution_count": null,
      "outputs": [
        {
          "output_type": "stream",
          "text": [
            "b'\\xf0\\xca5w\\xb6\\xf6\\xaf\\xe5w\\xaaQ?a\\x82\\x0f\\xb5'\n"
          ],
          "name": "stdout"
        },
        {
          "output_type": "execute_result",
          "data": {
            "text/plain": [
              "b'abcdefghijklmnop'"
            ]
          },
          "metadata": {
            "tags": []
          },
          "execution_count": 6
        }
      ]
    },
    {
      "cell_type": "code",
      "metadata": {
        "id": "lDKovu0cH0v6",
        "colab_type": "code",
        "colab": {
          "base_uri": "https://localhost:8080/",
          "height": 52
        },
        "outputId": "166ea2ec-a365-4dd8-feca-c33cf512b7de"
      },
      "source": [
        "# Symetric with AES\n",
        "from Crypto.Cipher import AES\n",
        "obj = AES.new('This is a keyabc', AES.MODE_CBC, 'This is an IV456')\n",
        "message = \"Text Plain Test1\"\n",
        "ciphertext = obj.encrypt(message)\n",
        "print(ciphertext)\n",
        "obj2 = AES.new('This is a keyabc', AES.MODE_CBC, 'This is an IV456')\n",
        "obj2.decrypt(ciphertext)"
      ],
      "execution_count": null,
      "outputs": [
        {
          "output_type": "stream",
          "text": [
            "b'e[e\\xe3\\x82\\x82W\\xe9U\\x1a\\x8f\\x8b\\xab3%\\xc4'\n"
          ],
          "name": "stdout"
        },
        {
          "output_type": "execute_result",
          "data": {
            "text/plain": [
              "b'Text Plain Test1'"
            ]
          },
          "metadata": {
            "tags": []
          },
          "execution_count": 7
        }
      ]
    },
    {
      "cell_type": "code",
      "metadata": {
        "id": "xkgZ8_G7H0wA",
        "colab_type": "code",
        "colab": {
          "base_uri": "https://localhost:8080/",
          "height": 52
        },
        "outputId": "3afc690d-29cf-461a-830d-03e18159cd9c"
      },
      "source": [
        "from Crypto.Cipher import ARC4\n",
        "obj1 = ARC4.new('01234567')\n",
        "obj2 = ARC4.new('01234567')\n",
        "text = 'abcdefghijklmnop'\n",
        "cipher_text = obj1.encrypt(text)\n",
        "print(cipher_text)\n",
        "obj2.decrypt(cipher_text)"
      ],
      "execution_count": null,
      "outputs": [
        {
          "output_type": "stream",
          "text": [
            "b'\\xf0\\xb7\\x90{#ABXY9\\xd06\\x9f\\xc0\\x8c '\n"
          ],
          "name": "stdout"
        },
        {
          "output_type": "execute_result",
          "data": {
            "text/plain": [
              "b'abcdefghijklmnop'"
            ]
          },
          "metadata": {
            "tags": []
          },
          "execution_count": 8
        }
      ]
    },
    {
      "cell_type": "code",
      "metadata": {
        "id": "YKk7cEFEH0wH",
        "colab_type": "code",
        "colab": {
          "base_uri": "https://localhost:8080/",
          "height": 72
        },
        "outputId": "f9047ee2-919f-41b7-dfb9-02bde482a2db"
      },
      "source": [
        "from Crypto.PublicKey import RSA\n",
        "from Crypto import Random\n",
        "random_generator = Random.new().read\n",
        "key = RSA.generate(2048, random_generator)\n",
        "key.can_encrypt()\n",
        "key.can_sign()\n",
        "key.has_private()\n",
        "public_key = key.publickey()\n",
        "msg = b'12345678'\n",
        "enc_data = public_key.encrypt(msg, 32)\n",
        "print(enc_data)\n",
        "public_key = key.publickey()\n",
        "print(key.decrypt(enc_data))"
      ],
      "execution_count": null,
      "outputs": [
        {
          "output_type": "stream",
          "text": [
            "(b'\\x8b\\xde\\xc5\\xe2)\\x03\\x9b\\xa4\\xef\\xac\\x932Z\\xc7\\xba\\x15\\x1a(\\xfc%\\xa37\\xc03.`\\x86H\\x85\\x80\\xf0)\\x07\\x1c\\x1c\\xaa\\xbd7\\xecBZ\\x12\\xfe\\xf4\\xcb@?\\x14\\xbd\\xe8^\\xfb]\\xd3\\x1dc\\x0e\\xddLX\\xb2W\\x9a\\x87\\xcc\\x8ay\\xdf\\x18\\xbcS\\x89 \\x00\\xc7\\x15\\xc0\\xe7V\\xfcR#\\x89\\xe4\\xd2+\\x92\\xe9\\xc9\\xbe-(\\xcc\\xfc\\x0c\\xe5\\xadh\\xf7\\x9c\\x98\\x8c\\xa0\\xec\\xc0c\\x85\\xef\\xc1Z\\xb3\\xa9\\xb9\\xab\\xddd\\x06Q\\x14\\xf9F\\xa7~q\\xfc\\x99\\xf0}\\x8c\\x1fL]\\xf2\\x1dl\\xba\\x9f\\xb4\\xb1_-fI\\xd8(\\xf7\\x94\\x97\\xea\\xef\\xe6\\xae\\xb3\\xabd\\x82\\\\\\xa4\\xfc\\xf9\\x16\\x0eX\\xcd\\xaf\\x8e\\xab\\x81\\xde\\x1e\\xccW\\r\\xd4\\xbf\\xe1p(\\x021\\xc2O\\xa8\\x85&\\xa7 \\x07Y\\xec\\xa4\\xdbN@\\xad\\x08\\xb8\\xa0\"\\xfca\\xa3c\\xdd\\x82A`O{\\xce\\x9b\\x9cyo\\xc9\\x84\\x19\\xca\\x1a\\xf9@c\\x91z\\x95\\x17\\x91\\x9cR\\xa7\\x83\\xbcbO\\xfd\\xfe\\x94\\xcbz\\xcd\\xf5\\t\\xf1\\xe7\\xd9\\xff\\x90\\x97S\\xeb\\xafSN\\x02eZ',)\n",
            "b'12345678'\n"
          ],
          "name": "stdout"
        }
      ]
    },
    {
      "cell_type": "code",
      "metadata": {
        "id": "hrB0jK9vH0wL",
        "colab_type": "code",
        "colab": {
          "base_uri": "https://localhost:8080/",
          "height": 90
        },
        "outputId": "6e8242b7-2515-4f2f-cbe4-c9ba1705c42e"
      },
      "source": [
        "from Crypto.Hash import SHA256\n",
        "from Crypto.PublicKey import RSA\n",
        "msg = b'A message for signing'\n",
        "from Crypto.PublicKey import RSA\n",
        "keyPair = RSA.generate(bits=1024)\n",
        "print(f\"Public key: (n={hex(keyPair.n)}, e={hex(keyPair.e)})\")\n",
        "print(f\"Private key: (n={hex(keyPair.n)}, d={hex(keyPair.d)})\")\n",
        "from hashlib import sha512\n",
        "hash = int.from_bytes(sha512(msg).digest(), byteorder='big')\n",
        "signature = pow(hash, keyPair.d, keyPair.n)\n",
        "print(\"Signature:\", hex(signature))"
      ],
      "execution_count": null,
      "outputs": [
        {
          "output_type": "stream",
          "text": [
            "Public key: (n=0x96ae34927a618663144e22ee89f5342e392ea3ae519bbfc945368f5edb144288f22d863ebffad965bc6b2a84752dd72a68415d728d5af3e8ebb4b5bad01e83a58dbb7561a60354e4a56bc1f1424035c3efff9443c5f8d21c779833243313f250b1dfd742e0a503f808c3fff2074f6f156661309b80de6ec025b7e9d4ce3dce57, e=0x10001)\n",
            "Private key: (n=0x96ae34927a618663144e22ee89f5342e392ea3ae519bbfc945368f5edb144288f22d863ebffad965bc6b2a84752dd72a68415d728d5af3e8ebb4b5bad01e83a58dbb7561a60354e4a56bc1f1424035c3efff9443c5f8d21c779833243313f250b1dfd742e0a503f808c3fff2074f6f156661309b80de6ec025b7e9d4ce3dce57, d=0x7a25418cb41436a23ea5907f99e9e1a0cecdd5f5cb45dc5445fd127fac4c621b2d6665fa9c19b6fd579defdb6c39fabfefbf7d070d3b7b9986e8f8a0357166f920929af5ea287cf0f10539d3453c8fe63e2ea3014eeae83c7df005474c5ea22af121482306f86dc94773c7b79ea7f5961e6c88e2c0e348a95923474d24f9d281)\n",
            "Signature: 0x712f39ddfa6148f21fc9c66bd2eb758f5447c00dbd9f2d1508dbe91734df0abe3e959f28d292890f972c6d25476e988e60c82f5f034f2b647011a9b90764898701eb828627c807a8ae6debc227b8800da48dc3e4db3a18850bf594bcec24fe52332f6520645b9e4f85552cb4e4d76b3035aca6e00b34e53758bb1dc1eb4649a\n"
          ],
          "name": "stdout"
        }
      ]
    },
    {
      "cell_type": "code",
      "metadata": {
        "id": "QQLrTta4H0wQ",
        "colab_type": "code",
        "colab": {
          "base_uri": "https://localhost:8080/",
          "height": 34
        },
        "outputId": "a3572fd8-f26c-4d11-d297-0f914b066eb7"
      },
      "source": [
        "from Crypto.Random import random\n",
        "from Crypto.PublicKey import DSA\n",
        "from Crypto.Hash import SHA\n",
        "\n",
        "# RSA verify signature\n",
        "msg = b'A message for signing'\n",
        "hash = int.from_bytes(sha512(msg).digest(), byteorder='big')\n",
        "hashFromSignature = pow(signature, keyPair.e, keyPair.n)\n",
        "print(\"Signature valid:\", hash == hashFromSignature)"
      ],
      "execution_count": null,
      "outputs": [
        {
          "output_type": "stream",
          "text": [
            "Signature valid: True\n"
          ],
          "name": "stdout"
        }
      ]
    },
    {
      "cell_type": "code",
      "metadata": {
        "id": "Bhk1U0p4QEDb",
        "colab_type": "code",
        "colab": {
          "base_uri": "https://localhost:8080/",
          "height": 390
        },
        "outputId": "86a58ac6-eb54-4682-93d7-d4029fc61f32"
      },
      "source": [
        "!apt-get install gcc python-dev libgmp3-dev"
      ],
      "execution_count": 18,
      "outputs": [
        {
          "output_type": "stream",
          "text": [
            "Reading package lists... Done\n",
            "Building dependency tree       \n",
            "Reading state information... Done\n",
            "python-dev is already the newest version (2.7.15~rc1-1).\n",
            "gcc is already the newest version (4:7.4.0-1ubuntu2.3).\n",
            "gcc set to manually installed.\n",
            "The following package was automatically installed and is no longer required:\n",
            "  libnvidia-common-440\n",
            "Use 'apt autoremove' to remove it.\n",
            "The following NEW packages will be installed:\n",
            "  libgmp3-dev\n",
            "0 upgraded, 1 newly installed, 0 to remove and 39 not upgraded.\n",
            "Need to get 1,996 B of archives.\n",
            "After this operation, 21.5 kB of additional disk space will be used.\n",
            "Get:1 http://archive.ubuntu.com/ubuntu bionic/main amd64 libgmp3-dev amd64 2:6.1.2+dfsg-2 [1,996 B]\n",
            "Fetched 1,996 B in 0s (6,692 B/s)\n",
            "Selecting previously unselected package libgmp3-dev.\n",
            "(Reading database ... 144597 files and directories currently installed.)\n",
            "Preparing to unpack .../libgmp3-dev_2%3a6.1.2+dfsg-2_amd64.deb ...\n",
            "Unpacking libgmp3-dev (2:6.1.2+dfsg-2) ...\n",
            "Setting up libgmp3-dev (2:6.1.2+dfsg-2) ...\n"
          ],
          "name": "stdout"
        }
      ]
    },
    {
      "cell_type": "code",
      "metadata": {
        "id": "ICO-25Mb2tq9",
        "colab_type": "code",
        "colab": {
          "base_uri": "https://localhost:8080/",
          "height": 176
        },
        "outputId": "1d1f27ce-87af-4795-97c7-604413607f39"
      },
      "source": [
        "!pip install ECPy"
      ],
      "execution_count": 5,
      "outputs": [
        {
          "output_type": "stream",
          "text": [
            "Collecting ECPy\n",
            "  Downloading https://files.pythonhosted.org/packages/a3/5f/dfed65c95348a6553663257bce82dcf66a79f8e7dfdfd090b5b9e191a34d/ECPy-1.2.3.tar.gz\n",
            "Building wheels for collected packages: ECPy\n",
            "  Building wheel for ECPy (setup.py) ... \u001b[?25l\u001b[?25hdone\n",
            "  Created wheel for ECPy: filename=ECPy-1.2.3-cp36-none-any.whl size=42921 sha256=52c730d4ac800c1dfce3b6fb5193523da650d7c155ad9c60b3129c9353c68605\n",
            "  Stored in directory: /root/.cache/pip/wheels/c2/79/84/ec22710f0651934df38f92ae3db6ff490e1970755a1ab8acaf\n",
            "Successfully built ECPy\n",
            "Installing collected packages: ECPy\n",
            "Successfully installed ECPy-1.2.3\n"
          ],
          "name": "stdout"
        }
      ]
    },
    {
      "cell_type": "code",
      "metadata": {
        "id": "kg3AJFNg2hq3",
        "colab_type": "code",
        "colab": {}
      },
      "source": [
        "from ecpy.curves     import Curve,Point\n",
        "from ecpy.keys       import ECPublicKey, ECPrivateKey\n",
        "from ecpy.ecdsa      import ECDSA\n",
        "\n",
        "cv     = Curve.get_curve('secp256k1')\n",
        "pu_key = ECPublicKey(Point(0x65d5b8bf9ab1801c9f168d4815994ad35f1dcb6ae6c7a1a303966b677b813b00,\n",
        "\n",
        "                           0xe6b865e529b8ecbf71cf966e900477d49ced5846d7662dd2dd11ccd55c0aff7f,\n",
        "                           cv))\n",
        "pv_key = ECPrivateKey(0xfb26a4e75eec75544c0f44e937dcf5ee6355c7176600b9688c667e5c283b43c5,\n",
        "                      cv)\n",
        "\n",
        "\n",
        "signer = ECDSA()\n",
        "sig    = signer.sign(b'01234567890123456789012345678912',pv_key)\n",
        "assert(signer.verify(b'01234567890123456789012345678912',sig,pu_key))"
      ],
      "execution_count": 10,
      "outputs": []
    },
    {
      "cell_type": "code",
      "metadata": {
        "id": "GQGbrzP53cEW",
        "colab_type": "code",
        "colab": {
          "base_uri": "https://localhost:8080/",
          "height": 70
        },
        "outputId": "ecb6105e-5c17-473a-bc14-868993903e4a"
      },
      "source": [
        "from ecpy.curves     import Curve,Point\n",
        "\n",
        "cv = Curve.get_curve('secp256k1')\n",
        "P  = Point(0x65d5b8bf9ab1801c9f168d4815994ad35f1dcb6ae6c7a1a303966b677b813b00,\n",
        "           0xe6b865e529b8ecbf71cf966e900477d49ced5846d7662dd2dd11ccd55c0aff7f,\n",
        "           cv)\n",
        "k  = 0xfb26a4e75eec75544c0f44e937dcf5ee6355c7176600b9688c667e5c283b43c5\n",
        "Q  = k*P\n",
        "R  = P+Q\n",
        "print(k)\n",
        "print(Q)\n",
        "print(R)"
      ],
      "execution_count": 8,
      "outputs": [
        {
          "output_type": "stream",
          "text": [
            "113598803307006624577106489236173750803123281481805053449180702781422222132165\n",
            "(0x7de099a1402a0a71881eb5f8c8469ae85431dd10943fa24981978062233394ce , 0x5723560f8b60f43464a37d2621ae907ba0d8d843d2989945e5e3c54614b142e7)\n",
            "(0x43e5365b928c88c0cc940b4d0b5d1e7e81be5ee80a6d9c8f9b892e96530bf49b , 0x110ae6407e217fa372663c3e827fcaca1c05fdebd414034447393ee3c3deda96)\n"
          ],
          "name": "stdout"
        }
      ]
    },
    {
      "cell_type": "code",
      "metadata": {
        "id": "w-0cI5IX5RX6",
        "colab_type": "code",
        "colab": {
          "base_uri": "https://localhost:8080/",
          "height": 194
        },
        "outputId": "1032912c-a35c-426e-a618-2656216dab7e"
      },
      "source": [
        "!pip install ed25519"
      ],
      "execution_count": 15,
      "outputs": [
        {
          "output_type": "stream",
          "text": [
            "Collecting ed25519\n",
            "\u001b[?25l  Downloading https://files.pythonhosted.org/packages/58/38/72ec85c953b90552fb015f31248256ef19e89a164a40ff8fef680259a608/ed25519-1.5.tar.gz (868kB)\n",
            "\u001b[K     |████████████████████████████████| 870kB 2.9MB/s \n",
            "\u001b[?25hBuilding wheels for collected packages: ed25519\n",
            "  Building wheel for ed25519 (setup.py) ... \u001b[?25l\u001b[?25hdone\n",
            "  Created wheel for ed25519: filename=ed25519-1.5-cp36-cp36m-linux_x86_64.whl size=103894 sha256=f52658ec3cf3f5127427d2d4ff8b92ad7100cecbbdc3407a89a75b8e65b69388\n",
            "  Stored in directory: /root/.cache/pip/wheels/66/1f/ec/c3b592ef5b0731ee7fdbd8c55160b86337a20d99796c0c549b\n",
            "Successfully built ed25519\n",
            "Installing collected packages: ed25519\n",
            "Successfully installed ed25519-1.5\n"
          ],
          "name": "stdout"
        }
      ]
    },
    {
      "cell_type": "code",
      "metadata": {
        "id": "aIra8AjV5W0q",
        "colab_type": "code",
        "colab": {
          "base_uri": "https://localhost:8080/",
          "height": 87
        },
        "outputId": "f88a0e24-7783-4825-805f-a23cb8a1cd89"
      },
      "source": [
        "import ed25519\n",
        "\n",
        "privKey, pubKey = ed25519.create_keypair()\n",
        "print(\"Private key (32 bytes):\", privKey.to_ascii(encoding='hex'))\n",
        "print(\"Public key (32 bytes): \", pubKey.to_ascii(encoding='hex'))\n",
        "\n",
        "msg = b'Message for Ed25519 signing'\n",
        "signature = privKey.sign(msg, encoding='hex')\n",
        "print(\"Signature (64 bytes):\", signature)\n",
        "\n",
        "try:\n",
        "    pubKey.verify(signature, msg, encoding='hex')\n",
        "    print(\"The signature is valid.\")\n",
        "except:\n",
        "    print(\"Invalid signature!\")"
      ],
      "execution_count": 16,
      "outputs": [
        {
          "output_type": "stream",
          "text": [
            "Private key (32 bytes): b'a670027d2b54488d71ce81533060bc07cab8e8d936c16c9bab1fc825d723c192'\n",
            "Public key (32 bytes):  b'f4aa324f6fe00f3351dd15b6f8256413980c86bcf41123f9064681c65d071122'\n",
            "Signature (64 bytes): b'f18fd0428d9d40b0f57ae24ce0f0218603386bbcaa91b3cf812a047cd672b819dd8e6ac8ed62708c2f71382e134ced61ec9f6c656fce1b972559158ed3efe504'\n",
            "The signature is valid.\n"
          ],
          "name": "stdout"
        }
      ]
    },
    {
      "cell_type": "code",
      "metadata": {
        "id": "2fh9Olat5kTI",
        "colab_type": "code",
        "colab": {
          "base_uri": "https://localhost:8080/",
          "height": 34
        },
        "outputId": "cb2e6d86-45d0-493a-be3f-f6b94d56af9a"
      },
      "source": [
        "!pip install ecpy"
      ],
      "execution_count": 17,
      "outputs": [
        {
          "output_type": "stream",
          "text": [
            "Requirement already satisfied: ecpy in /usr/local/lib/python3.6/dist-packages (1.2.3)\n"
          ],
          "name": "stdout"
        }
      ]
    },
    {
      "cell_type": "code",
      "metadata": {
        "id": "vYoSsI_V5sqx",
        "colab_type": "code",
        "colab": {
          "base_uri": "https://localhost:8080/",
          "height": 123
        },
        "outputId": "93f4ef48-7656-4d05-eaa2-54a0b2977932"
      },
      "source": [
        "from ecpy.curves import Curve\n",
        "from ecpy.keys import ECPrivateKey\n",
        "from ecpy.eddsa import EDDSA\n",
        "import secrets, hashlib, binascii\n",
        "\n",
        "curve = Curve.get_curve('Ed448')\n",
        "signer = EDDSA(hashlib.shake_256, hash_len=114)\n",
        "privKey = ECPrivateKey(secrets.randbits(57*8), curve)\n",
        "pubKey = signer.get_public_key(privKey, hashlib.shake_256, hash_len=114)\n",
        "print(\"Private key (57 bytes):\", privKey)\n",
        "print(\"Public key (compressed, 57 bytes): \",\n",
        "      binascii.hexlify(curve.encode_point(pubKey.W)))\n",
        "print(\"Public key (point): \", pubKey)"
      ],
      "execution_count": 18,
      "outputs": [
        {
          "output_type": "stream",
          "text": [
            "Private key (57 bytes): ECPrivateKey:\n",
            "  d: db7ec208c103647e31faa7e5fe9ef5116162bd88a96f4979e3cd726ed481a2a30bf4ca9896eb14cefdaddebc6ea9c7067d5198528281a41542\n",
            "Public key (compressed, 57 bytes):  b'89d68037d963edb9889743af17041fb2d8ef590f7a506c82ca3e875f67ca837c65ffec5d98dd7af4f4726e5bb9a2d699bc77c4fd06f0b42480'\n",
            "Public key (point):  ECPublicKey:\n",
            "  x: db835aba1d73cffcdc29e00e4cefb2103d3c950c27e547bc6b9524d2398df457d2867396e544cf3f1e9771f82c0967380141b98bb03ae801\n",
            "  y: 24b4f006fdc477bc99d6a2b95b6e72f4f47add985decff657c83ca675f873eca826c507a0f59efd8b21f0417af439788b9ed63d93780d689\n"
          ],
          "name": "stdout"
        }
      ]
    },
    {
      "cell_type": "code",
      "metadata": {
        "id": "Of3areX3H0wT",
        "colab_type": "code",
        "colab": {}
      },
      "source": [
        "# Criptosistema Híbrido para Firma Digital usando cálculo de claves\n",
        "# por curvas elípticas (parámetros Curve P256, P224) y hashing vía SHA2 y SHA3\n",
        "from hashlib import sha384\n",
        "m = \"Test Message\"\n",
        "# formato de curva y de algoritmo de hashing (P256 and SHA256)\n",
        "private_key = keys.gen_private_key(curve.P256)\n",
        "public_key = keys.get_public_key(private_key, curve.P256)\n",
        "r, s = ecdsa.sign(m, private_key)\n",
        "# Debe retornar TRUE\n",
        "valid = ecdsa.verify((r, s), m, public_key)\n",
        "print(valid)\n",
        "##'Aumentar Sec con sha384 ECDSA '''\n",
        "r, s = ecdsa.sign(m, private_key, hashfunc=sha384)\n",
        "valid = ecdsa.verify((r, s), m, public_key, hashfunc=sha384)\n",
        "print(valid)\n",
        "##''' Otra Curva ECDSA '''\n",
        "private_key = keys.gen_private_key(curve.P224)\n",
        "public_key = keys.get_public_key(private_key, curve.P224)\n",
        "r, s = ecdsa.sign(m, private_key, curve=curve.P224)\n",
        "valid = ecdsa.verify((r, s), m, public_key, curve=curve.P224)\n",
        "print(valid)"
      ],
      "execution_count": null,
      "outputs": []
    }
  ]
}