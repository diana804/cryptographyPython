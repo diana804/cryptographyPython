{
 "cells": [
  {
   "cell_type": "code",
   "execution_count": null,
   "metadata": {},
   "outputs": [],
   "source": [
    "# Pentesting with Python Nmap, Scapy"
   ]
  },
  {
   "cell_type": "code",
   "execution_count": 2,
   "metadata": {},
   "outputs": [],
   "source": [
    "import nmap"
   ]
  },
  {
   "cell_type": "code",
   "execution_count": 7,
   "metadata": {},
   "outputs": [
    {
     "data": {
      "text/plain": [
       "'open'"
      ]
     },
     "execution_count": 7,
     "metadata": {},
     "output_type": "execute_result"
    }
   ],
   "source": [
    "nm = nmap.PortScanner()\n",
    "nm.scan('127.0.0.1', '22-443')\n",
    "nm.command_line()\n",
    "#nmap -oX - -p 22-443 -sV 127.0.0.1'\n",
    "nm.scaninfo()\n",
    "nm.all_hosts()\n",
    "nm['127.0.0.1'].hostname()\n",
    "nm['127.0.0.1'].state()\n",
    "nm['127.0.0.1'].all_protocols()\n",
    "nm['127.0.0.1']['tcp'].keys()\n",
    "nm['127.0.0.1'].has_tcp(22)\n",
    "nm['127.0.0.1'].has_tcp(23)\n",
    "nm['127.0.0.1']['tcp'][22]\n",
    "nm['127.0.0.1'].tcp(22)\n",
    "nm['127.0.0.1']['tcp'][22]['state']"
   ]
  },
  {
   "cell_type": "code",
   "execution_count": 9,
   "metadata": {},
   "outputs": [
    {
     "name": "stdout",
     "output_type": "stream",
     "text": [
      "----------------------------------------------------\n",
      "Host : 127.0.0.1 (localhost)\n",
      "State : up\n",
      "----------\n",
      "Protocol : tcp\n",
      "port : 22\tstate : open\n",
      "port : 111\tstate : open\n"
     ]
    }
   ],
   "source": [
    "for host in nm.all_hosts():\n",
    "    print('----------------------------------------------------')\n",
    "    print('Host : %s (%s)' % (host, nm[host].hostname()))\n",
    "    print('State : %s' % nm[host].state())\n",
    "    for proto in nm[host].all_protocols():\n",
    "        print('----------')\n",
    "        print('Protocol : %s' % proto)\n",
    "\n",
    "        lport = nm[host][proto].keys()\n",
    "        #lport.sort()\n",
    "        for port in lport:\n",
    "            print ('port : %s\\tstate : %s' % (port, nm[host][proto][port]['state']))"
   ]
  },
  {
   "cell_type": "code",
   "execution_count": 13,
   "metadata": {},
   "outputs": [
    {
     "name": "stdout",
     "output_type": "stream",
     "text": [
      "('127.0.0.0', {'nmap': {'command_line': 'nmap -oX - -p 22-25 -sV 127.0.0.0', 'scaninfo': {'tcp': {'method': 'syn', 'services': '22-25'}}, 'scanstats': {'timestr': 'Sun Jul 26 11:34:48 2020', 'elapsed': '4.13', 'uphosts': '1', 'downhosts': '0', 'totalhosts': '1'}}, 'scan': {'127.0.0.0': {'hostnames': [{'name': '', 'type': ''}], 'addresses': {'ipv4': '127.0.0.0'}, 'vendor': {}, 'status': {'state': 'up', 'reason': 'localhost-response'}, 'tcp': {22: {'state': 'filtered', 'reason': 'no-response', 'name': 'ssh', 'product': '', 'version': '', 'extrainfo': '', 'conf': '3', 'cpe': ''}, 23: {'state': 'filtered', 'reason': 'no-response', 'name': 'telnet', 'product': '', 'version': '', 'extrainfo': '', 'conf': '3', 'cpe': ''}, 24: {'state': 'filtered', 'reason': 'no-response', 'name': 'priv-mail', 'product': '', 'version': '', 'extrainfo': '', 'conf': '3', 'cpe': ''}, 25: {'state': 'filtered', 'reason': 'no-response', 'name': 'smtp', 'product': '', 'version': '', 'extrainfo': '', 'conf': '3', 'cpe': ''}}}}})\n",
      "('127.0.0.1', {'nmap': {'command_line': 'nmap -oX - -p 22-25 -sV 127.0.0.1', 'scaninfo': {'tcp': {'method': 'syn', 'services': '22-25'}}, 'scanstats': {'timestr': 'Sun Jul 26 11:34:49 2020', 'elapsed': '1.53', 'uphosts': '1', 'downhosts': '0', 'totalhosts': '1'}}, 'scan': {'127.0.0.1': {'hostnames': [{'name': 'localhost', 'type': 'PTR'}], 'addresses': {'ipv4': '127.0.0.1'}, 'vendor': {}, 'status': {'state': 'up', 'reason': 'localhost-response'}, 'tcp': {22: {'state': 'open', 'reason': 'syn-ack', 'name': 'ssh', 'product': 'OpenSSH', 'version': '7.3p1 Debian 5', 'extrainfo': 'protocol 2.0', 'conf': '10', 'cpe': 'cpe:/o:linux:linux_kernel'}, 23: {'state': 'closed', 'reason': 'reset', 'name': 'telnet', 'product': '', 'version': '', 'extrainfo': '', 'conf': '3', 'cpe': ''}, 24: {'state': 'closed', 'reason': 'reset', 'name': 'priv-mail', 'product': '', 'version': '', 'extrainfo': '', 'conf': '3', 'cpe': ''}, 25: {'state': 'closed', 'reason': 'reset', 'name': 'smtp', 'product': '', 'version': '', 'extrainfo': '', 'conf': '3', 'cpe': ''}}}}})\n",
      "('127.0.0.10', {'nmap': {'command_line': 'nmap -oX - -p 22-25 -sV 127.0.0.10', 'scaninfo': {'tcp': {'method': 'syn', 'services': '22-25'}}, 'scanstats': {'timestr': 'Sun Jul 26 11:34:51 2020', 'elapsed': '1.53', 'uphosts': '1', 'downhosts': '0', 'totalhosts': '1'}}, 'scan': {'127.0.0.10': {'hostnames': [{'name': '', 'type': ''}], 'addresses': {'ipv4': '127.0.0.10'}, 'vendor': {}, 'status': {'state': 'up', 'reason': 'localhost-response'}, 'tcp': {22: {'state': 'open', 'reason': 'syn-ack', 'name': 'ssh', 'product': 'OpenSSH', 'version': '7.3p1 Debian 5', 'extrainfo': 'protocol 2.0', 'conf': '10', 'cpe': 'cpe:/o:linux:linux_kernel'}, 23: {'state': 'closed', 'reason': 'reset', 'name': 'telnet', 'product': '', 'version': '', 'extrainfo': '', 'conf': '3', 'cpe': ''}, 24: {'state': 'closed', 'reason': 'reset', 'name': 'priv-mail', 'product': '', 'version': '', 'extrainfo': '', 'conf': '3', 'cpe': ''}, 25: {'state': 'closed', 'reason': 'reset', 'name': 'smtp', 'product': '', 'version': '', 'extrainfo': '', 'conf': '3', 'cpe': ''}}}}})\n",
      "('127.0.0.100', {'nmap': {'command_line': 'nmap -oX - -p 22-25 -sV 127.0.0.100', 'scaninfo': {'tcp': {'method': 'syn', 'services': '22-25'}}, 'scanstats': {'timestr': 'Sun Jul 26 11:34:53 2020', 'elapsed': '1.60', 'uphosts': '1', 'downhosts': '0', 'totalhosts': '1'}}, 'scan': {'127.0.0.100': {'hostnames': [{'name': '', 'type': ''}], 'addresses': {'ipv4': '127.0.0.100'}, 'vendor': {}, 'status': {'state': 'up', 'reason': 'localhost-response'}, 'tcp': {22: {'state': 'open', 'reason': 'syn-ack', 'name': 'ssh', 'product': 'OpenSSH', 'version': '7.3p1 Debian 5', 'extrainfo': 'protocol 2.0', 'conf': '10', 'cpe': 'cpe:/o:linux:linux_kernel'}, 23: {'state': 'closed', 'reason': 'reset', 'name': 'telnet', 'product': '', 'version': '', 'extrainfo': '', 'conf': '3', 'cpe': ''}, 24: {'state': 'closed', 'reason': 'reset', 'name': 'priv-mail', 'product': '', 'version': '', 'extrainfo': '', 'conf': '3', 'cpe': ''}, 25: {'state': 'closed', 'reason': 'reset', 'name': 'smtp', 'product': '', 'version': '', 'extrainfo': '', 'conf': '3', 'cpe': ''}}}}})\n",
      "('127.0.0.101', {'nmap': {'command_line': 'nmap -oX - -p 22-25 -sV 127.0.0.101', 'scaninfo': {'tcp': {'method': 'syn', 'services': '22-25'}}, 'scanstats': {'timestr': 'Sun Jul 26 11:34:54 2020', 'elapsed': '1.59', 'uphosts': '1', 'downhosts': '0', 'totalhosts': '1'}}, 'scan': {'127.0.0.101': {'hostnames': [{'name': '', 'type': ''}], 'addresses': {'ipv4': '127.0.0.101'}, 'vendor': {}, 'status': {'state': 'up', 'reason': 'localhost-response'}, 'tcp': {22: {'state': 'open', 'reason': 'syn-ack', 'name': 'ssh', 'product': 'OpenSSH', 'version': '7.3p1 Debian 5', 'extrainfo': 'protocol 2.0', 'conf': '10', 'cpe': 'cpe:/o:linux:linux_kernel'}, 23: {'state': 'closed', 'reason': 'reset', 'name': 'telnet', 'product': '', 'version': '', 'extrainfo': '', 'conf': '3', 'cpe': ''}, 24: {'state': 'closed', 'reason': 'reset', 'name': 'priv-mail', 'product': '', 'version': '', 'extrainfo': '', 'conf': '3', 'cpe': ''}, 25: {'state': 'closed', 'reason': 'reset', 'name': 'smtp', 'product': '', 'version': '', 'extrainfo': '', 'conf': '3', 'cpe': ''}}}}})\n",
      "('127.0.0.102', {'nmap': {'command_line': 'nmap -oX - -p 22-25 -sV 127.0.0.102', 'scaninfo': {'tcp': {'method': 'syn', 'services': '22-25'}}, 'scanstats': {'timestr': 'Sun Jul 26 11:34:56 2020', 'elapsed': '1.58', 'uphosts': '1', 'downhosts': '0', 'totalhosts': '1'}}, 'scan': {'127.0.0.102': {'hostnames': [{'name': '', 'type': ''}], 'addresses': {'ipv4': '127.0.0.102'}, 'vendor': {}, 'status': {'state': 'up', 'reason': 'localhost-response'}, 'tcp': {22: {'state': 'open', 'reason': 'syn-ack', 'name': 'ssh', 'product': 'OpenSSH', 'version': '7.3p1 Debian 5', 'extrainfo': 'protocol 2.0', 'conf': '10', 'cpe': 'cpe:/o:linux:linux_kernel'}, 23: {'state': 'closed', 'reason': 'reset', 'name': 'telnet', 'product': '', 'version': '', 'extrainfo': '', 'conf': '3', 'cpe': ''}, 24: {'state': 'closed', 'reason': 'reset', 'name': 'priv-mail', 'product': '', 'version': '', 'extrainfo': '', 'conf': '3', 'cpe': ''}, 25: {'state': 'closed', 'reason': 'reset', 'name': 'smtp', 'product': '', 'version': '', 'extrainfo': '', 'conf': '3', 'cpe': ''}}}}})\n",
      "('127.0.0.103', {'nmap': {'command_line': 'nmap -oX - -p 22-25 -sV 127.0.0.103', 'scaninfo': {'tcp': {'method': 'syn', 'services': '22-25'}}, 'scanstats': {'timestr': 'Sun Jul 26 11:34:57 2020', 'elapsed': '1.49', 'uphosts': '1', 'downhosts': '0', 'totalhosts': '1'}}, 'scan': {'127.0.0.103': {'hostnames': [{'name': '', 'type': ''}], 'addresses': {'ipv4': '127.0.0.103'}, 'vendor': {}, 'status': {'state': 'up', 'reason': 'localhost-response'}, 'tcp': {22: {'state': 'open', 'reason': 'syn-ack', 'name': 'ssh', 'product': 'OpenSSH', 'version': '7.3p1 Debian 5', 'extrainfo': 'protocol 2.0', 'conf': '10', 'cpe': 'cpe:/o:linux:linux_kernel'}, 23: {'state': 'closed', 'reason': 'reset', 'name': 'telnet', 'product': '', 'version': '', 'extrainfo': '', 'conf': '3', 'cpe': ''}, 24: {'state': 'closed', 'reason': 'reset', 'name': 'priv-mail', 'product': '', 'version': '', 'extrainfo': '', 'conf': '3', 'cpe': ''}, 25: {'state': 'closed', 'reason': 'reset', 'name': 'smtp', 'product': '', 'version': '', 'extrainfo': '', 'conf': '3', 'cpe': ''}}}}})\n",
      "('127.0.0.104', {'nmap': {'command_line': 'nmap -oX - -p 22-25 -sV 127.0.0.104', 'scaninfo': {'tcp': {'method': 'syn', 'services': '22-25'}}, 'scanstats': {'timestr': 'Sun Jul 26 11:34:59 2020', 'elapsed': '1.57', 'uphosts': '1', 'downhosts': '0', 'totalhosts': '1'}}, 'scan': {'127.0.0.104': {'hostnames': [{'name': '', 'type': ''}], 'addresses': {'ipv4': '127.0.0.104'}, 'vendor': {}, 'status': {'state': 'up', 'reason': 'localhost-response'}, 'tcp': {22: {'state': 'open', 'reason': 'syn-ack', 'name': 'ssh', 'product': 'OpenSSH', 'version': '7.3p1 Debian 5', 'extrainfo': 'protocol 2.0', 'conf': '10', 'cpe': 'cpe:/o:linux:linux_kernel'}, 23: {'state': 'closed', 'reason': 'reset', 'name': 'telnet', 'product': '', 'version': '', 'extrainfo': '', 'conf': '3', 'cpe': ''}, 24: {'state': 'closed', 'reason': 'reset', 'name': 'priv-mail', 'product': '', 'version': '', 'extrainfo': '', 'conf': '3', 'cpe': ''}, 25: {'state': 'closed', 'reason': 'reset', 'name': 'smtp', 'product': '', 'version': '', 'extrainfo': '', 'conf': '3', 'cpe': ''}}}}})\n"
     ]
    },
    {
     "name": "stdout",
     "output_type": "stream",
     "text": [
      "('127.0.0.105', {'nmap': {'command_line': 'nmap -oX - -p 22-25 -sV 127.0.0.105', 'scaninfo': {'tcp': {'method': 'syn', 'services': '22-25'}}, 'scanstats': {'timestr': 'Sun Jul 26 11:35:01 2020', 'elapsed': '1.83', 'uphosts': '1', 'downhosts': '0', 'totalhosts': '1'}}, 'scan': {'127.0.0.105': {'hostnames': [{'name': '', 'type': ''}], 'addresses': {'ipv4': '127.0.0.105'}, 'vendor': {}, 'status': {'state': 'up', 'reason': 'localhost-response'}, 'tcp': {22: {'state': 'open', 'reason': 'syn-ack', 'name': 'ssh', 'product': 'OpenSSH', 'version': '7.3p1 Debian 5', 'extrainfo': 'protocol 2.0', 'conf': '10', 'cpe': 'cpe:/o:linux:linux_kernel'}, 23: {'state': 'closed', 'reason': 'reset', 'name': 'telnet', 'product': '', 'version': '', 'extrainfo': '', 'conf': '3', 'cpe': ''}, 24: {'state': 'closed', 'reason': 'reset', 'name': 'priv-mail', 'product': '', 'version': '', 'extrainfo': '', 'conf': '3', 'cpe': ''}, 25: {'state': 'closed', 'reason': 'reset', 'name': 'smtp', 'product': '', 'version': '', 'extrainfo': '', 'conf': '3', 'cpe': ''}}}}})\n",
      "('127.0.0.106', {'nmap': {'command_line': 'nmap -oX - -p 22-25 -sV 127.0.0.106', 'scaninfo': {'tcp': {'method': 'syn', 'services': '22-25'}}, 'scanstats': {'timestr': 'Sun Jul 26 11:35:02 2020', 'elapsed': '1.50', 'uphosts': '1', 'downhosts': '0', 'totalhosts': '1'}}, 'scan': {'127.0.0.106': {'hostnames': [{'name': '', 'type': ''}], 'addresses': {'ipv4': '127.0.0.106'}, 'vendor': {}, 'status': {'state': 'up', 'reason': 'localhost-response'}, 'tcp': {22: {'state': 'open', 'reason': 'syn-ack', 'name': 'ssh', 'product': 'OpenSSH', 'version': '7.3p1 Debian 5', 'extrainfo': 'protocol 2.0', 'conf': '10', 'cpe': 'cpe:/o:linux:linux_kernel'}, 23: {'state': 'closed', 'reason': 'reset', 'name': 'telnet', 'product': '', 'version': '', 'extrainfo': '', 'conf': '3', 'cpe': ''}, 24: {'state': 'closed', 'reason': 'reset', 'name': 'priv-mail', 'product': '', 'version': '', 'extrainfo': '', 'conf': '3', 'cpe': ''}, 25: {'state': 'closed', 'reason': 'reset', 'name': 'smtp', 'product': '', 'version': '', 'extrainfo': '', 'conf': '3', 'cpe': ''}}}}})\n",
      "('127.0.0.107', {'nmap': {'command_line': 'nmap -oX - -p 22-25 -sV 127.0.0.107', 'scaninfo': {'tcp': {'method': 'syn', 'services': '22-25'}}, 'scanstats': {'timestr': 'Sun Jul 26 11:35:04 2020', 'elapsed': '1.97', 'uphosts': '1', 'downhosts': '0', 'totalhosts': '1'}}, 'scan': {'127.0.0.107': {'hostnames': [{'name': '', 'type': ''}], 'addresses': {'ipv4': '127.0.0.107'}, 'vendor': {}, 'status': {'state': 'up', 'reason': 'localhost-response'}, 'tcp': {22: {'state': 'open', 'reason': 'syn-ack', 'name': 'ssh', 'product': 'OpenSSH', 'version': '7.3p1 Debian 5', 'extrainfo': 'protocol 2.0', 'conf': '10', 'cpe': 'cpe:/o:linux:linux_kernel'}, 23: {'state': 'closed', 'reason': 'reset', 'name': 'telnet', 'product': '', 'version': '', 'extrainfo': '', 'conf': '3', 'cpe': ''}, 24: {'state': 'closed', 'reason': 'reset', 'name': 'priv-mail', 'product': '', 'version': '', 'extrainfo': '', 'conf': '3', 'cpe': ''}, 25: {'state': 'closed', 'reason': 'reset', 'name': 'smtp', 'product': '', 'version': '', 'extrainfo': '', 'conf': '3', 'cpe': ''}}}}})\n",
      "('127.0.0.108', {'nmap': {'command_line': 'nmap -oX - -p 22-25 -sV 127.0.0.108', 'scaninfo': {'tcp': {'method': 'syn', 'services': '22-25'}}, 'scanstats': {'timestr': 'Sun Jul 26 11:35:06 2020', 'elapsed': '1.58', 'uphosts': '1', 'downhosts': '0', 'totalhosts': '1'}}, 'scan': {'127.0.0.108': {'hostnames': [{'name': '', 'type': ''}], 'addresses': {'ipv4': '127.0.0.108'}, 'vendor': {}, 'status': {'state': 'up', 'reason': 'localhost-response'}, 'tcp': {22: {'state': 'open', 'reason': 'syn-ack', 'name': 'ssh', 'product': 'OpenSSH', 'version': '7.3p1 Debian 5', 'extrainfo': 'protocol 2.0', 'conf': '10', 'cpe': 'cpe:/o:linux:linux_kernel'}, 23: {'state': 'closed', 'reason': 'reset', 'name': 'telnet', 'product': '', 'version': '', 'extrainfo': '', 'conf': '3', 'cpe': ''}, 24: {'state': 'closed', 'reason': 'reset', 'name': 'priv-mail', 'product': '', 'version': '', 'extrainfo': '', 'conf': '3', 'cpe': ''}, 25: {'state': 'closed', 'reason': 'reset', 'name': 'smtp', 'product': '', 'version': '', 'extrainfo': '', 'conf': '3', 'cpe': ''}}}}})\n",
      "('127.0.0.109', {'nmap': {'command_line': 'nmap -oX - -p 22-25 -sV 127.0.0.109', 'scaninfo': {'tcp': {'method': 'syn', 'services': '22-25'}}, 'scanstats': {'timestr': 'Sun Jul 26 11:35:08 2020', 'elapsed': '1.70', 'uphosts': '1', 'downhosts': '0', 'totalhosts': '1'}}, 'scan': {'127.0.0.109': {'hostnames': [{'name': '', 'type': ''}], 'addresses': {'ipv4': '127.0.0.109'}, 'vendor': {}, 'status': {'state': 'up', 'reason': 'localhost-response'}, 'tcp': {22: {'state': 'open', 'reason': 'syn-ack', 'name': 'ssh', 'product': 'OpenSSH', 'version': '7.3p1 Debian 5', 'extrainfo': 'protocol 2.0', 'conf': '10', 'cpe': 'cpe:/o:linux:linux_kernel'}, 23: {'state': 'closed', 'reason': 'reset', 'name': 'telnet', 'product': '', 'version': '', 'extrainfo': '', 'conf': '3', 'cpe': ''}, 24: {'state': 'closed', 'reason': 'reset', 'name': 'priv-mail', 'product': '', 'version': '', 'extrainfo': '', 'conf': '3', 'cpe': ''}, 25: {'state': 'closed', 'reason': 'reset', 'name': 'smtp', 'product': '', 'version': '', 'extrainfo': '', 'conf': '3', 'cpe': ''}}}}})\n",
      "('127.0.0.11', {'nmap': {'command_line': 'nmap -oX - -p 22-25 -sV 127.0.0.11', 'scaninfo': {'tcp': {'method': 'syn', 'services': '22-25'}}, 'scanstats': {'timestr': 'Sun Jul 26 11:35:09 2020', 'elapsed': '1.48', 'uphosts': '1', 'downhosts': '0', 'totalhosts': '1'}}, 'scan': {'127.0.0.11': {'hostnames': [{'name': '', 'type': ''}], 'addresses': {'ipv4': '127.0.0.11'}, 'vendor': {}, 'status': {'state': 'up', 'reason': 'localhost-response'}, 'tcp': {22: {'state': 'open', 'reason': 'syn-ack', 'name': 'ssh', 'product': 'OpenSSH', 'version': '7.3p1 Debian 5', 'extrainfo': 'protocol 2.0', 'conf': '10', 'cpe': 'cpe:/o:linux:linux_kernel'}, 23: {'state': 'closed', 'reason': 'reset', 'name': 'telnet', 'product': '', 'version': '', 'extrainfo': '', 'conf': '3', 'cpe': ''}, 24: {'state': 'closed', 'reason': 'reset', 'name': 'priv-mail', 'product': '', 'version': '', 'extrainfo': '', 'conf': '3', 'cpe': ''}, 25: {'state': 'closed', 'reason': 'reset', 'name': 'smtp', 'product': '', 'version': '', 'extrainfo': '', 'conf': '3', 'cpe': ''}}}}})\n",
      "('127.0.0.110', {'nmap': {'command_line': 'nmap -oX - -p 22-25 -sV 127.0.0.110', 'scaninfo': {'tcp': {'method': 'syn', 'services': '22-25'}}, 'scanstats': {'timestr': 'Sun Jul 26 11:35:11 2020', 'elapsed': '1.60', 'uphosts': '1', 'downhosts': '0', 'totalhosts': '1'}}, 'scan': {'127.0.0.110': {'hostnames': [{'name': '', 'type': ''}], 'addresses': {'ipv4': '127.0.0.110'}, 'vendor': {}, 'status': {'state': 'up', 'reason': 'localhost-response'}, 'tcp': {22: {'state': 'open', 'reason': 'syn-ack', 'name': 'ssh', 'product': 'OpenSSH', 'version': '7.3p1 Debian 5', 'extrainfo': 'protocol 2.0', 'conf': '10', 'cpe': 'cpe:/o:linux:linux_kernel'}, 23: {'state': 'closed', 'reason': 'reset', 'name': 'telnet', 'product': '', 'version': '', 'extrainfo': '', 'conf': '3', 'cpe': ''}, 24: {'state': 'closed', 'reason': 'reset', 'name': 'priv-mail', 'product': '', 'version': '', 'extrainfo': '', 'conf': '3', 'cpe': ''}, 25: {'state': 'closed', 'reason': 'reset', 'name': 'smtp', 'product': '', 'version': '', 'extrainfo': '', 'conf': '3', 'cpe': ''}}}}})\n",
      "('127.0.0.111', {'nmap': {'command_line': 'nmap -oX - -p 22-25 -sV 127.0.0.111', 'scaninfo': {'tcp': {'method': 'syn', 'services': '22-25'}}, 'scanstats': {'timestr': 'Sun Jul 26 11:35:12 2020', 'elapsed': '1.70', 'uphosts': '1', 'downhosts': '0', 'totalhosts': '1'}}, 'scan': {'127.0.0.111': {'hostnames': [{'name': '', 'type': ''}], 'addresses': {'ipv4': '127.0.0.111'}, 'vendor': {}, 'status': {'state': 'up', 'reason': 'localhost-response'}, 'tcp': {22: {'state': 'open', 'reason': 'syn-ack', 'name': 'ssh', 'product': 'OpenSSH', 'version': '7.3p1 Debian 5', 'extrainfo': 'protocol 2.0', 'conf': '10', 'cpe': 'cpe:/o:linux:linux_kernel'}, 23: {'state': 'closed', 'reason': 'reset', 'name': 'telnet', 'product': '', 'version': '', 'extrainfo': '', 'conf': '3', 'cpe': ''}, 24: {'state': 'closed', 'reason': 'reset', 'name': 'priv-mail', 'product': '', 'version': '', 'extrainfo': '', 'conf': '3', 'cpe': ''}, 25: {'state': 'closed', 'reason': 'reset', 'name': 'smtp', 'product': '', 'version': '', 'extrainfo': '', 'conf': '3', 'cpe': ''}}}}})\n"
     ]
    },
    {
     "name": "stdout",
     "output_type": "stream",
     "text": [
      "('127.0.0.112', {'nmap': {'command_line': 'nmap -oX - -p 22-25 -sV 127.0.0.112', 'scaninfo': {'tcp': {'method': 'syn', 'services': '22-25'}}, 'scanstats': {'timestr': 'Sun Jul 26 11:35:14 2020', 'elapsed': '1.50', 'uphosts': '1', 'downhosts': '0', 'totalhosts': '1'}}, 'scan': {'127.0.0.112': {'hostnames': [{'name': '', 'type': ''}], 'addresses': {'ipv4': '127.0.0.112'}, 'vendor': {}, 'status': {'state': 'up', 'reason': 'localhost-response'}, 'tcp': {22: {'state': 'open', 'reason': 'syn-ack', 'name': 'ssh', 'product': 'OpenSSH', 'version': '7.3p1 Debian 5', 'extrainfo': 'protocol 2.0', 'conf': '10', 'cpe': 'cpe:/o:linux:linux_kernel'}, 23: {'state': 'closed', 'reason': 'reset', 'name': 'telnet', 'product': '', 'version': '', 'extrainfo': '', 'conf': '3', 'cpe': ''}, 24: {'state': 'closed', 'reason': 'reset', 'name': 'priv-mail', 'product': '', 'version': '', 'extrainfo': '', 'conf': '3', 'cpe': ''}, 25: {'state': 'closed', 'reason': 'reset', 'name': 'smtp', 'product': '', 'version': '', 'extrainfo': '', 'conf': '3', 'cpe': ''}}}}})\n",
      "('127.0.0.113', {'nmap': {'command_line': 'nmap -oX - -p 22-25 -sV 127.0.0.113', 'scaninfo': {'tcp': {'method': 'syn', 'services': '22-25'}}, 'scanstats': {'timestr': 'Sun Jul 26 11:35:16 2020', 'elapsed': '1.59', 'uphosts': '1', 'downhosts': '0', 'totalhosts': '1'}}, 'scan': {'127.0.0.113': {'hostnames': [{'name': '', 'type': ''}], 'addresses': {'ipv4': '127.0.0.113'}, 'vendor': {}, 'status': {'state': 'up', 'reason': 'localhost-response'}, 'tcp': {22: {'state': 'open', 'reason': 'syn-ack', 'name': 'ssh', 'product': 'OpenSSH', 'version': '7.3p1 Debian 5', 'extrainfo': 'protocol 2.0', 'conf': '10', 'cpe': 'cpe:/o:linux:linux_kernel'}, 23: {'state': 'closed', 'reason': 'reset', 'name': 'telnet', 'product': '', 'version': '', 'extrainfo': '', 'conf': '3', 'cpe': ''}, 24: {'state': 'closed', 'reason': 'reset', 'name': 'priv-mail', 'product': '', 'version': '', 'extrainfo': '', 'conf': '3', 'cpe': ''}, 25: {'state': 'closed', 'reason': 'reset', 'name': 'smtp', 'product': '', 'version': '', 'extrainfo': '', 'conf': '3', 'cpe': ''}}}}})\n",
      "('127.0.0.114', {'nmap': {'command_line': 'nmap -oX - -p 22-25 -sV 127.0.0.114', 'scaninfo': {'tcp': {'method': 'syn', 'services': '22-25'}}, 'scanstats': {'timestr': 'Sun Jul 26 11:35:17 2020', 'elapsed': '1.56', 'uphosts': '1', 'downhosts': '0', 'totalhosts': '1'}}, 'scan': {'127.0.0.114': {'hostnames': [{'name': '', 'type': ''}], 'addresses': {'ipv4': '127.0.0.114'}, 'vendor': {}, 'status': {'state': 'up', 'reason': 'localhost-response'}, 'tcp': {22: {'state': 'open', 'reason': 'syn-ack', 'name': 'ssh', 'product': 'OpenSSH', 'version': '7.3p1 Debian 5', 'extrainfo': 'protocol 2.0', 'conf': '10', 'cpe': 'cpe:/o:linux:linux_kernel'}, 23: {'state': 'closed', 'reason': 'reset', 'name': 'telnet', 'product': '', 'version': '', 'extrainfo': '', 'conf': '3', 'cpe': ''}, 24: {'state': 'closed', 'reason': 'reset', 'name': 'priv-mail', 'product': '', 'version': '', 'extrainfo': '', 'conf': '3', 'cpe': ''}, 25: {'state': 'closed', 'reason': 'reset', 'name': 'smtp', 'product': '', 'version': '', 'extrainfo': '', 'conf': '3', 'cpe': ''}}}}})\n",
      "('127.0.0.115', {'nmap': {'command_line': 'nmap -oX - -p 22-25 -sV 127.0.0.115', 'scaninfo': {'tcp': {'method': 'syn', 'services': '22-25'}}, 'scanstats': {'timestr': 'Sun Jul 26 11:35:19 2020', 'elapsed': '1.55', 'uphosts': '1', 'downhosts': '0', 'totalhosts': '1'}}, 'scan': {'127.0.0.115': {'hostnames': [{'name': '', 'type': ''}], 'addresses': {'ipv4': '127.0.0.115'}, 'vendor': {}, 'status': {'state': 'up', 'reason': 'localhost-response'}, 'tcp': {22: {'state': 'open', 'reason': 'syn-ack', 'name': 'ssh', 'product': 'OpenSSH', 'version': '7.3p1 Debian 5', 'extrainfo': 'protocol 2.0', 'conf': '10', 'cpe': 'cpe:/o:linux:linux_kernel'}, 23: {'state': 'closed', 'reason': 'reset', 'name': 'telnet', 'product': '', 'version': '', 'extrainfo': '', 'conf': '3', 'cpe': ''}, 24: {'state': 'closed', 'reason': 'reset', 'name': 'priv-mail', 'product': '', 'version': '', 'extrainfo': '', 'conf': '3', 'cpe': ''}, 25: {'state': 'closed', 'reason': 'reset', 'name': 'smtp', 'product': '', 'version': '', 'extrainfo': '', 'conf': '3', 'cpe': ''}}}}})\n",
      "('127.0.0.116', {'nmap': {'command_line': 'nmap -oX - -p 22-25 -sV 127.0.0.116', 'scaninfo': {'tcp': {'method': 'syn', 'services': '22-25'}}, 'scanstats': {'timestr': 'Sun Jul 26 11:35:23 2020', 'elapsed': '4.04', 'uphosts': '1', 'downhosts': '0', 'totalhosts': '1'}}, 'scan': {'127.0.0.116': {'hostnames': [{'name': '', 'type': ''}], 'addresses': {'ipv4': '127.0.0.116'}, 'vendor': {}, 'status': {'state': 'up', 'reason': 'localhost-response'}, 'tcp': {22: {'state': 'open', 'reason': 'syn-ack', 'name': 'ssh', 'product': 'OpenSSH', 'version': '7.3p1 Debian 5', 'extrainfo': 'protocol 2.0', 'conf': '10', 'cpe': 'cpe:/o:linux:linux_kernel'}, 23: {'state': 'closed', 'reason': 'reset', 'name': 'telnet', 'product': '', 'version': '', 'extrainfo': '', 'conf': '3', 'cpe': ''}, 24: {'state': 'closed', 'reason': 'reset', 'name': 'priv-mail', 'product': '', 'version': '', 'extrainfo': '', 'conf': '3', 'cpe': ''}, 25: {'state': 'closed', 'reason': 'reset', 'name': 'smtp', 'product': '', 'version': '', 'extrainfo': '', 'conf': '3', 'cpe': ''}}}}})\n",
      "('127.0.0.117', {'nmap': {'command_line': 'nmap -oX - -p 22-25 -sV 127.0.0.117', 'scaninfo': {'tcp': {'method': 'syn', 'services': '22-25'}}, 'scanstats': {'timestr': 'Sun Jul 26 11:35:24 2020', 'elapsed': '1.51', 'uphosts': '1', 'downhosts': '0', 'totalhosts': '1'}}, 'scan': {'127.0.0.117': {'hostnames': [{'name': '', 'type': ''}], 'addresses': {'ipv4': '127.0.0.117'}, 'vendor': {}, 'status': {'state': 'up', 'reason': 'localhost-response'}, 'tcp': {22: {'state': 'open', 'reason': 'syn-ack', 'name': 'ssh', 'product': 'OpenSSH', 'version': '7.3p1 Debian 5', 'extrainfo': 'protocol 2.0', 'conf': '10', 'cpe': 'cpe:/o:linux:linux_kernel'}, 23: {'state': 'closed', 'reason': 'reset', 'name': 'telnet', 'product': '', 'version': '', 'extrainfo': '', 'conf': '3', 'cpe': ''}, 24: {'state': 'closed', 'reason': 'reset', 'name': 'priv-mail', 'product': '', 'version': '', 'extrainfo': '', 'conf': '3', 'cpe': ''}, 25: {'state': 'closed', 'reason': 'reset', 'name': 'smtp', 'product': '', 'version': '', 'extrainfo': '', 'conf': '3', 'cpe': ''}}}}})\n",
      "('127.0.0.118', {'nmap': {'command_line': 'nmap -oX - -p 22-25 -sV 127.0.0.118', 'scaninfo': {'tcp': {'method': 'syn', 'services': '22-25'}}, 'scanstats': {'timestr': 'Sun Jul 26 11:35:28 2020', 'elapsed': '4.07', 'uphosts': '1', 'downhosts': '0', 'totalhosts': '1'}}, 'scan': {'127.0.0.118': {'hostnames': [{'name': '', 'type': ''}], 'addresses': {'ipv4': '127.0.0.118'}, 'vendor': {}, 'status': {'state': 'up', 'reason': 'localhost-response'}, 'tcp': {22: {'state': 'open', 'reason': 'syn-ack', 'name': 'ssh', 'product': 'OpenSSH', 'version': '7.3p1 Debian 5', 'extrainfo': 'protocol 2.0', 'conf': '10', 'cpe': 'cpe:/o:linux:linux_kernel'}, 23: {'state': 'closed', 'reason': 'reset', 'name': 'telnet', 'product': '', 'version': '', 'extrainfo': '', 'conf': '3', 'cpe': ''}, 24: {'state': 'closed', 'reason': 'reset', 'name': 'priv-mail', 'product': '', 'version': '', 'extrainfo': '', 'conf': '3', 'cpe': ''}, 25: {'state': 'closed', 'reason': 'reset', 'name': 'smtp', 'product': '', 'version': '', 'extrainfo': '', 'conf': '3', 'cpe': ''}}}}})\n",
      "('127.0.0.119', {'nmap': {'command_line': 'nmap -oX - -p 22-25 -sV 127.0.0.119', 'scaninfo': {'tcp': {'method': 'syn', 'services': '22-25'}}, 'scanstats': {'timestr': 'Sun Jul 26 11:35:30 2020', 'elapsed': '1.53', 'uphosts': '1', 'downhosts': '0', 'totalhosts': '1'}}, 'scan': {'127.0.0.119': {'hostnames': [{'name': '', 'type': ''}], 'addresses': {'ipv4': '127.0.0.119'}, 'vendor': {}, 'status': {'state': 'up', 'reason': 'localhost-response'}, 'tcp': {22: {'state': 'open', 'reason': 'syn-ack', 'name': 'ssh', 'product': 'OpenSSH', 'version': '7.3p1 Debian 5', 'extrainfo': 'protocol 2.0', 'conf': '10', 'cpe': 'cpe:/o:linux:linux_kernel'}, 23: {'state': 'closed', 'reason': 'reset', 'name': 'telnet', 'product': '', 'version': '', 'extrainfo': '', 'conf': '3', 'cpe': ''}, 24: {'state': 'closed', 'reason': 'reset', 'name': 'priv-mail', 'product': '', 'version': '', 'extrainfo': '', 'conf': '3', 'cpe': ''}, 25: {'state': 'closed', 'reason': 'reset', 'name': 'smtp', 'product': '', 'version': '', 'extrainfo': '', 'conf': '3', 'cpe': ''}}}}})\n"
     ]
    },
    {
     "name": "stdout",
     "output_type": "stream",
     "text": [
      "('127.0.0.12', {'nmap': {'command_line': 'nmap -oX - -p 22-25 -sV 127.0.0.12', 'scaninfo': {'tcp': {'method': 'syn', 'services': '22-25'}}, 'scanstats': {'timestr': 'Sun Jul 26 11:35:31 2020', 'elapsed': '1.51', 'uphosts': '1', 'downhosts': '0', 'totalhosts': '1'}}, 'scan': {'127.0.0.12': {'hostnames': [{'name': '', 'type': ''}], 'addresses': {'ipv4': '127.0.0.12'}, 'vendor': {}, 'status': {'state': 'up', 'reason': 'localhost-response'}, 'tcp': {22: {'state': 'open', 'reason': 'syn-ack', 'name': 'ssh', 'product': 'OpenSSH', 'version': '7.3p1 Debian 5', 'extrainfo': 'protocol 2.0', 'conf': '10', 'cpe': 'cpe:/o:linux:linux_kernel'}, 23: {'state': 'closed', 'reason': 'reset', 'name': 'telnet', 'product': '', 'version': '', 'extrainfo': '', 'conf': '3', 'cpe': ''}, 24: {'state': 'closed', 'reason': 'reset', 'name': 'priv-mail', 'product': '', 'version': '', 'extrainfo': '', 'conf': '3', 'cpe': ''}, 25: {'state': 'closed', 'reason': 'reset', 'name': 'smtp', 'product': '', 'version': '', 'extrainfo': '', 'conf': '3', 'cpe': ''}}}}})\n",
      "('127.0.0.120', {'nmap': {'command_line': 'nmap -oX - -p 22-25 -sV 127.0.0.120', 'scaninfo': {'tcp': {'method': 'syn', 'services': '22-25'}}, 'scanstats': {'timestr': 'Sun Jul 26 11:35:33 2020', 'elapsed': '1.64', 'uphosts': '1', 'downhosts': '0', 'totalhosts': '1'}}, 'scan': {'127.0.0.120': {'hostnames': [{'name': '', 'type': ''}], 'addresses': {'ipv4': '127.0.0.120'}, 'vendor': {}, 'status': {'state': 'up', 'reason': 'localhost-response'}, 'tcp': {22: {'state': 'open', 'reason': 'syn-ack', 'name': 'ssh', 'product': 'OpenSSH', 'version': '7.3p1 Debian 5', 'extrainfo': 'protocol 2.0', 'conf': '10', 'cpe': 'cpe:/o:linux:linux_kernel'}, 23: {'state': 'closed', 'reason': 'reset', 'name': 'telnet', 'product': '', 'version': '', 'extrainfo': '', 'conf': '3', 'cpe': ''}, 24: {'state': 'closed', 'reason': 'reset', 'name': 'priv-mail', 'product': '', 'version': '', 'extrainfo': '', 'conf': '3', 'cpe': ''}, 25: {'state': 'closed', 'reason': 'reset', 'name': 'smtp', 'product': '', 'version': '', 'extrainfo': '', 'conf': '3', 'cpe': ''}}}}})\n",
      "('127.0.0.121', {'nmap': {'command_line': 'nmap -oX - -p 22-25 -sV 127.0.0.121', 'scaninfo': {'tcp': {'method': 'syn', 'services': '22-25'}}, 'scanstats': {'timestr': 'Sun Jul 26 11:35:35 2020', 'elapsed': '1.57', 'uphosts': '1', 'downhosts': '0', 'totalhosts': '1'}}, 'scan': {'127.0.0.121': {'hostnames': [{'name': '', 'type': ''}], 'addresses': {'ipv4': '127.0.0.121'}, 'vendor': {}, 'status': {'state': 'up', 'reason': 'localhost-response'}, 'tcp': {22: {'state': 'open', 'reason': 'syn-ack', 'name': 'ssh', 'product': 'OpenSSH', 'version': '7.3p1 Debian 5', 'extrainfo': 'protocol 2.0', 'conf': '10', 'cpe': 'cpe:/o:linux:linux_kernel'}, 23: {'state': 'closed', 'reason': 'reset', 'name': 'telnet', 'product': '', 'version': '', 'extrainfo': '', 'conf': '3', 'cpe': ''}, 24: {'state': 'closed', 'reason': 'reset', 'name': 'priv-mail', 'product': '', 'version': '', 'extrainfo': '', 'conf': '3', 'cpe': ''}, 25: {'state': 'closed', 'reason': 'reset', 'name': 'smtp', 'product': '', 'version': '', 'extrainfo': '', 'conf': '3', 'cpe': ''}}}}})\n",
      "('127.0.0.122', {'nmap': {'command_line': 'nmap -oX - -p 22-25 -sV 127.0.0.122', 'scaninfo': {'tcp': {'method': 'syn', 'services': '22-25'}}, 'scanstats': {'timestr': 'Sun Jul 26 11:35:36 2020', 'elapsed': '1.63', 'uphosts': '1', 'downhosts': '0', 'totalhosts': '1'}}, 'scan': {'127.0.0.122': {'hostnames': [{'name': '', 'type': ''}], 'addresses': {'ipv4': '127.0.0.122'}, 'vendor': {}, 'status': {'state': 'up', 'reason': 'localhost-response'}, 'tcp': {22: {'state': 'open', 'reason': 'syn-ack', 'name': 'ssh', 'product': 'OpenSSH', 'version': '7.3p1 Debian 5', 'extrainfo': 'protocol 2.0', 'conf': '10', 'cpe': 'cpe:/o:linux:linux_kernel'}, 23: {'state': 'closed', 'reason': 'reset', 'name': 'telnet', 'product': '', 'version': '', 'extrainfo': '', 'conf': '3', 'cpe': ''}, 24: {'state': 'closed', 'reason': 'reset', 'name': 'priv-mail', 'product': '', 'version': '', 'extrainfo': '', 'conf': '3', 'cpe': ''}, 25: {'state': 'closed', 'reason': 'reset', 'name': 'smtp', 'product': '', 'version': '', 'extrainfo': '', 'conf': '3', 'cpe': ''}}}}})\n",
      "('127.0.0.123', {'nmap': {'command_line': 'nmap -oX - -p 22-25 -sV 127.0.0.123', 'scaninfo': {'tcp': {'method': 'syn', 'services': '22-25'}}, 'scanstats': {'timestr': 'Sun Jul 26 11:35:44 2020', 'elapsed': '8.10', 'uphosts': '1', 'downhosts': '0', 'totalhosts': '1'}}, 'scan': {'127.0.0.123': {'hostnames': [{'name': '', 'type': ''}], 'addresses': {'ipv4': '127.0.0.123'}, 'vendor': {}, 'status': {'state': 'up', 'reason': 'localhost-response'}, 'tcp': {22: {'state': 'open', 'reason': 'syn-ack', 'name': 'ssh', 'product': 'OpenSSH', 'version': '7.3p1 Debian 5', 'extrainfo': 'protocol 2.0', 'conf': '10', 'cpe': 'cpe:/o:linux:linux_kernel'}, 23: {'state': 'closed', 'reason': 'reset', 'name': 'telnet', 'product': '', 'version': '', 'extrainfo': '', 'conf': '3', 'cpe': ''}, 24: {'state': 'closed', 'reason': 'reset', 'name': 'priv-mail', 'product': '', 'version': '', 'extrainfo': '', 'conf': '3', 'cpe': ''}, 25: {'state': 'closed', 'reason': 'reset', 'name': 'smtp', 'product': '', 'version': '', 'extrainfo': '', 'conf': '3', 'cpe': ''}}}}})\n",
      "('127.0.0.124', {'nmap': {'command_line': 'nmap -oX - -p 22-25 -sV 127.0.0.124', 'scaninfo': {'tcp': {'method': 'syn', 'services': '22-25'}}, 'scanstats': {'timestr': 'Sun Jul 26 11:35:46 2020', 'elapsed': '1.43', 'uphosts': '1', 'downhosts': '0', 'totalhosts': '1'}}, 'scan': {'127.0.0.124': {'hostnames': [{'name': '', 'type': ''}], 'addresses': {'ipv4': '127.0.0.124'}, 'vendor': {}, 'status': {'state': 'up', 'reason': 'localhost-response'}, 'tcp': {22: {'state': 'open', 'reason': 'syn-ack', 'name': 'ssh', 'product': 'OpenSSH', 'version': '7.3p1 Debian 5', 'extrainfo': 'protocol 2.0', 'conf': '10', 'cpe': 'cpe:/o:linux:linux_kernel'}, 23: {'state': 'closed', 'reason': 'reset', 'name': 'telnet', 'product': '', 'version': '', 'extrainfo': '', 'conf': '3', 'cpe': ''}, 24: {'state': 'closed', 'reason': 'reset', 'name': 'priv-mail', 'product': '', 'version': '', 'extrainfo': '', 'conf': '3', 'cpe': ''}, 25: {'state': 'closed', 'reason': 'reset', 'name': 'smtp', 'product': '', 'version': '', 'extrainfo': '', 'conf': '3', 'cpe': ''}}}}})\n",
      "('127.0.0.125', {'nmap': {'command_line': 'nmap -oX - -p 22-25 -sV 127.0.0.125', 'scaninfo': {'tcp': {'method': 'syn', 'services': '22-25'}}, 'scanstats': {'timestr': 'Sun Jul 26 11:35:47 2020', 'elapsed': '1.54', 'uphosts': '1', 'downhosts': '0', 'totalhosts': '1'}}, 'scan': {'127.0.0.125': {'hostnames': [{'name': '', 'type': ''}], 'addresses': {'ipv4': '127.0.0.125'}, 'vendor': {}, 'status': {'state': 'up', 'reason': 'localhost-response'}, 'tcp': {22: {'state': 'open', 'reason': 'syn-ack', 'name': 'ssh', 'product': 'OpenSSH', 'version': '7.3p1 Debian 5', 'extrainfo': 'protocol 2.0', 'conf': '10', 'cpe': 'cpe:/o:linux:linux_kernel'}, 23: {'state': 'closed', 'reason': 'reset', 'name': 'telnet', 'product': '', 'version': '', 'extrainfo': '', 'conf': '3', 'cpe': ''}, 24: {'state': 'closed', 'reason': 'reset', 'name': 'priv-mail', 'product': '', 'version': '', 'extrainfo': '', 'conf': '3', 'cpe': ''}, 25: {'state': 'closed', 'reason': 'reset', 'name': 'smtp', 'product': '', 'version': '', 'extrainfo': '', 'conf': '3', 'cpe': ''}}}}})\n"
     ]
    },
    {
     "ename": "KeyboardInterrupt",
     "evalue": "",
     "output_type": "error",
     "traceback": [
      "\u001b[0;31m---------------------------------------------------------------------------\u001b[0m",
      "\u001b[0;31mKeyboardInterrupt\u001b[0m                         Traceback (most recent call last)",
      "\u001b[0;32m<ipython-input-13-7db64b863d7b>\u001b[0m in \u001b[0;36m<module>\u001b[0;34m\u001b[0m\n\u001b[1;32m      1\u001b[0m \u001b[0mnm\u001b[0m \u001b[0;34m=\u001b[0m \u001b[0mnmap\u001b[0m\u001b[0;34m.\u001b[0m\u001b[0mPortScannerYield\u001b[0m\u001b[0;34m(\u001b[0m\u001b[0;34m)\u001b[0m\u001b[0;34m\u001b[0m\u001b[0;34m\u001b[0m\u001b[0m\n\u001b[0;32m----> 2\u001b[0;31m \u001b[0;32mfor\u001b[0m \u001b[0mprogressive_result\u001b[0m \u001b[0;32min\u001b[0m \u001b[0mnm\u001b[0m\u001b[0;34m.\u001b[0m\u001b[0mscan\u001b[0m\u001b[0;34m(\u001b[0m\u001b[0;34m'127.0.0.1/24'\u001b[0m\u001b[0;34m,\u001b[0m \u001b[0;34m'22-25'\u001b[0m\u001b[0;34m)\u001b[0m\u001b[0;34m:\u001b[0m\u001b[0;34m\u001b[0m\u001b[0;34m\u001b[0m\u001b[0m\n\u001b[0m\u001b[1;32m      3\u001b[0m     \u001b[0mprint\u001b[0m\u001b[0;34m(\u001b[0m\u001b[0mprogressive_result\u001b[0m\u001b[0;34m)\u001b[0m\u001b[0;34m\u001b[0m\u001b[0;34m\u001b[0m\u001b[0m\n",
      "\u001b[0;32m/usr/local/lib/python3.7/dist-packages/nmap/nmap.py\u001b[0m in \u001b[0;36mscan\u001b[0;34m(self, hosts, ports, arguments, sudo)\u001b[0m\n\u001b[1;32m    862\u001b[0m         \u001b[0;32mfor\u001b[0m \u001b[0mhost\u001b[0m \u001b[0;32min\u001b[0m \u001b[0mself\u001b[0m\u001b[0;34m.\u001b[0m\u001b[0m_nm\u001b[0m\u001b[0;34m.\u001b[0m\u001b[0mlistscan\u001b[0m\u001b[0;34m(\u001b[0m\u001b[0mhosts\u001b[0m\u001b[0;34m)\u001b[0m\u001b[0;34m:\u001b[0m\u001b[0;34m\u001b[0m\u001b[0;34m\u001b[0m\u001b[0m\n\u001b[1;32m    863\u001b[0m             \u001b[0;32mtry\u001b[0m\u001b[0;34m:\u001b[0m\u001b[0;34m\u001b[0m\u001b[0;34m\u001b[0m\u001b[0m\n\u001b[0;32m--> 864\u001b[0;31m                 \u001b[0mscan_data\u001b[0m \u001b[0;34m=\u001b[0m \u001b[0mself\u001b[0m\u001b[0;34m.\u001b[0m\u001b[0m_nm\u001b[0m\u001b[0;34m.\u001b[0m\u001b[0mscan\u001b[0m\u001b[0;34m(\u001b[0m\u001b[0mhost\u001b[0m\u001b[0;34m,\u001b[0m \u001b[0mports\u001b[0m\u001b[0;34m,\u001b[0m \u001b[0marguments\u001b[0m\u001b[0;34m,\u001b[0m \u001b[0msudo\u001b[0m\u001b[0;34m)\u001b[0m\u001b[0;34m\u001b[0m\u001b[0;34m\u001b[0m\u001b[0m\n\u001b[0m\u001b[1;32m    865\u001b[0m             \u001b[0;32mexcept\u001b[0m \u001b[0mPortScannerError\u001b[0m\u001b[0;34m:\u001b[0m\u001b[0;34m\u001b[0m\u001b[0;34m\u001b[0m\u001b[0m\n\u001b[1;32m    866\u001b[0m                 \u001b[0mscan_data\u001b[0m \u001b[0;34m=\u001b[0m \u001b[0;32mNone\u001b[0m\u001b[0;34m\u001b[0m\u001b[0;34m\u001b[0m\u001b[0m\n",
      "\u001b[0;32m/usr/local/lib/python3.7/dist-packages/nmap/nmap.py\u001b[0m in \u001b[0;36mscan\u001b[0;34m(self, hosts, ports, arguments, sudo)\u001b[0m\n\u001b[1;32m    233\u001b[0m         \u001b[0;31m# wait until finished\u001b[0m\u001b[0;34m\u001b[0m\u001b[0;34m\u001b[0m\u001b[0;34m\u001b[0m\u001b[0m\n\u001b[1;32m    234\u001b[0m         \u001b[0;31m# get output\u001b[0m\u001b[0;34m\u001b[0m\u001b[0;34m\u001b[0m\u001b[0;34m\u001b[0m\u001b[0m\n\u001b[0;32m--> 235\u001b[0;31m         \u001b[0;34m(\u001b[0m\u001b[0mself\u001b[0m\u001b[0;34m.\u001b[0m\u001b[0m_nmap_last_output\u001b[0m\u001b[0;34m,\u001b[0m \u001b[0mnmap_err\u001b[0m\u001b[0;34m)\u001b[0m \u001b[0;34m=\u001b[0m \u001b[0mp\u001b[0m\u001b[0;34m.\u001b[0m\u001b[0mcommunicate\u001b[0m\u001b[0;34m(\u001b[0m\u001b[0;34m)\u001b[0m\u001b[0;34m\u001b[0m\u001b[0;34m\u001b[0m\u001b[0m\n\u001b[0m\u001b[1;32m    236\u001b[0m         \u001b[0mself\u001b[0m\u001b[0;34m.\u001b[0m\u001b[0m_nmap_last_output\u001b[0m \u001b[0;34m=\u001b[0m \u001b[0mbytes\u001b[0m\u001b[0;34m.\u001b[0m\u001b[0mdecode\u001b[0m\u001b[0;34m(\u001b[0m\u001b[0mself\u001b[0m\u001b[0;34m.\u001b[0m\u001b[0m_nmap_last_output\u001b[0m\u001b[0;34m)\u001b[0m\u001b[0;34m\u001b[0m\u001b[0;34m\u001b[0m\u001b[0m\n\u001b[1;32m    237\u001b[0m         \u001b[0mnmap_err\u001b[0m \u001b[0;34m=\u001b[0m \u001b[0mbytes\u001b[0m\u001b[0;34m.\u001b[0m\u001b[0mdecode\u001b[0m\u001b[0;34m(\u001b[0m\u001b[0mnmap_err\u001b[0m\u001b[0;34m)\u001b[0m\u001b[0;34m\u001b[0m\u001b[0;34m\u001b[0m\u001b[0m\n",
      "\u001b[0;32m/usr/lib/python3.7/subprocess.py\u001b[0m in \u001b[0;36mcommunicate\u001b[0;34m(self, input, timeout)\u001b[0m\n\u001b[1;32m    962\u001b[0m \u001b[0;34m\u001b[0m\u001b[0m\n\u001b[1;32m    963\u001b[0m             \u001b[0;32mtry\u001b[0m\u001b[0;34m:\u001b[0m\u001b[0;34m\u001b[0m\u001b[0;34m\u001b[0m\u001b[0m\n\u001b[0;32m--> 964\u001b[0;31m                 \u001b[0mstdout\u001b[0m\u001b[0;34m,\u001b[0m \u001b[0mstderr\u001b[0m \u001b[0;34m=\u001b[0m \u001b[0mself\u001b[0m\u001b[0;34m.\u001b[0m\u001b[0m_communicate\u001b[0m\u001b[0;34m(\u001b[0m\u001b[0minput\u001b[0m\u001b[0;34m,\u001b[0m \u001b[0mendtime\u001b[0m\u001b[0;34m,\u001b[0m \u001b[0mtimeout\u001b[0m\u001b[0;34m)\u001b[0m\u001b[0;34m\u001b[0m\u001b[0;34m\u001b[0m\u001b[0m\n\u001b[0m\u001b[1;32m    965\u001b[0m             \u001b[0;32mexcept\u001b[0m \u001b[0mKeyboardInterrupt\u001b[0m\u001b[0;34m:\u001b[0m\u001b[0;34m\u001b[0m\u001b[0;34m\u001b[0m\u001b[0m\n\u001b[1;32m    966\u001b[0m                 \u001b[0;31m# https://bugs.python.org/issue25942\u001b[0m\u001b[0;34m\u001b[0m\u001b[0;34m\u001b[0m\u001b[0;34m\u001b[0m\u001b[0m\n",
      "\u001b[0;32m/usr/lib/python3.7/subprocess.py\u001b[0m in \u001b[0;36m_communicate\u001b[0;34m(self, input, endtime, orig_timeout)\u001b[0m\n\u001b[1;32m   1713\u001b[0m                             'failed to raise TimeoutExpired.')\n\u001b[1;32m   1714\u001b[0m \u001b[0;34m\u001b[0m\u001b[0m\n\u001b[0;32m-> 1715\u001b[0;31m                     \u001b[0mready\u001b[0m \u001b[0;34m=\u001b[0m \u001b[0mselector\u001b[0m\u001b[0;34m.\u001b[0m\u001b[0mselect\u001b[0m\u001b[0;34m(\u001b[0m\u001b[0mtimeout\u001b[0m\u001b[0;34m)\u001b[0m\u001b[0;34m\u001b[0m\u001b[0;34m\u001b[0m\u001b[0m\n\u001b[0m\u001b[1;32m   1716\u001b[0m                     \u001b[0mself\u001b[0m\u001b[0;34m.\u001b[0m\u001b[0m_check_timeout\u001b[0m\u001b[0;34m(\u001b[0m\u001b[0mendtime\u001b[0m\u001b[0;34m,\u001b[0m \u001b[0morig_timeout\u001b[0m\u001b[0;34m,\u001b[0m \u001b[0mstdout\u001b[0m\u001b[0;34m,\u001b[0m \u001b[0mstderr\u001b[0m\u001b[0;34m)\u001b[0m\u001b[0;34m\u001b[0m\u001b[0;34m\u001b[0m\u001b[0m\n\u001b[1;32m   1717\u001b[0m \u001b[0;34m\u001b[0m\u001b[0m\n",
      "\u001b[0;32m/usr/lib/python3.7/selectors.py\u001b[0m in \u001b[0;36mselect\u001b[0;34m(self, timeout)\u001b[0m\n\u001b[1;32m    413\u001b[0m         \u001b[0mready\u001b[0m \u001b[0;34m=\u001b[0m \u001b[0;34m[\u001b[0m\u001b[0;34m]\u001b[0m\u001b[0;34m\u001b[0m\u001b[0;34m\u001b[0m\u001b[0m\n\u001b[1;32m    414\u001b[0m         \u001b[0;32mtry\u001b[0m\u001b[0;34m:\u001b[0m\u001b[0;34m\u001b[0m\u001b[0;34m\u001b[0m\u001b[0m\n\u001b[0;32m--> 415\u001b[0;31m             \u001b[0mfd_event_list\u001b[0m \u001b[0;34m=\u001b[0m \u001b[0mself\u001b[0m\u001b[0;34m.\u001b[0m\u001b[0m_selector\u001b[0m\u001b[0;34m.\u001b[0m\u001b[0mpoll\u001b[0m\u001b[0;34m(\u001b[0m\u001b[0mtimeout\u001b[0m\u001b[0;34m)\u001b[0m\u001b[0;34m\u001b[0m\u001b[0;34m\u001b[0m\u001b[0m\n\u001b[0m\u001b[1;32m    416\u001b[0m         \u001b[0;32mexcept\u001b[0m \u001b[0mInterruptedError\u001b[0m\u001b[0;34m:\u001b[0m\u001b[0;34m\u001b[0m\u001b[0;34m\u001b[0m\u001b[0m\n\u001b[1;32m    417\u001b[0m             \u001b[0;32mreturn\u001b[0m \u001b[0mready\u001b[0m\u001b[0;34m\u001b[0m\u001b[0;34m\u001b[0m\u001b[0m\n",
      "\u001b[0;31mKeyboardInterrupt\u001b[0m: "
     ]
    }
   ],
   "source": [
    "nm = nmap.PortScannerYield()\n",
    "for progressive_result in nm.scan('127.0.0.1/24', '22-25'):\n",
    "    print(progressive_result)"
   ]
  },
  {
   "cell_type": "code",
   "execution_count": 50,
   "metadata": {},
   "outputs": [
    {
     "name": "stdout",
     "output_type": "stream",
     "text": [
      "Xmas scan on, 127.0.0.1 with ports [22, 80]\n",
      "22 | Open / filtered\n",
      "80 | Open / filtered\n"
     ]
    }
   ],
   "source": [
    "#Port scanner with Scapy\n",
    "import argparse\n",
    "from scapy.all import *\n",
    "\n",
    "# output format # TODO make prettier \n",
    "def print_ports(port, state):\n",
    "\tprint(\"%s | %s\" % (port, state))\n",
    "\n",
    "# syn scan\n",
    "def syn_scan(target, ports):\n",
    "\tprint(\"syn scan on, %s with ports %s\" % (target, ports))\n",
    "\tsport = RandShort()\n",
    "\tfor port in ports:\n",
    "\t\tpkt = sr1(IP(dst=target)/TCP(sport=sport, dport=port, flags=\"S\"), timeout=1, verbose=0)\n",
    "\t\tif pkt != None:\n",
    "\t\t\tif pkt.haslayer(TCP):\n",
    "\t\t\t\tif pkt[TCP].flags == 20:\n",
    "\t\t\t\t\tprint_ports(port, \"Closed\")\n",
    "\t\t\t\telif pkt[TCP].flags == 18:\n",
    "\t\t\t\t\tprint_ports(port, \"Open\")\n",
    "\t\t\t\telse:\n",
    "\t\t\t\t\tprint_ports(port, \"TCP packet resp / filtered\")\n",
    "\t\t\telif pkt.haslayer(ICMP):\n",
    "\t\t\t\tprint_ports(port, \"ICMP resp / filtered\")\n",
    "\t\t\telse:\n",
    "\t\t\t\tprint_ports(port, \"Unknown resp\")\n",
    "\t\t\t\tprint(pkt.summary())\n",
    "\t\telse:\n",
    "\t\t\tprint_ports(port, \"Unanswered\")\n",
    "\n",
    "# udp scan\n",
    "def udp_scan(target, ports):\n",
    "\tprint(\"udp scan on, %s with ports %s\" % (target, ports))\n",
    "\tfor port in ports:\n",
    "\t\tpkt = sr1(IP(dst=target)/UDP(sport=port, dport=port), timeout=2, verbose=0)\n",
    "\t\tif pkt == None:\n",
    "\t\t\tprint_ports(port, \"Open / filtered\")\n",
    "\t\telse:\n",
    "\t\t\tif pkt.haslayer(ICMP):\n",
    "\t\t\t\tprint_ports(port, \"Closed\")\n",
    "\t\t\telif pkt.haslayer(UDP):\n",
    "\t\t\t\tprint_ports(port, \"Open / filtered\")\n",
    "\t\t\telse:\n",
    "\t\t\t\tprint_ports(port, \"Unknown\")\n",
    "\t\t\t\tprint(pkt.summary())\n",
    "\n",
    "# xmas scan\n",
    "def xmas_scan(target, ports):\n",
    "\tprint(\"Xmas scan on, %s with ports %s\" %(target, ports))\n",
    "\tsport = RandShort()\n",
    "\tfor port in ports:\n",
    "\t\tpkt = sr1(IP(dst=target)/TCP(sport=sport, dport=port, flags=\"FPU\"), timeout=1, verbose=0)\n",
    "\t\tif pkt != None:\n",
    "\t\t\tif pkt.haslayer(TCP):\n",
    "\t\t\t\tif pkt[TCP].flags == 20:\n",
    "\t\t\t\t\tprint_ports(port, \"Closed\")\n",
    "\t\t\t\telse:\n",
    "\t\t\t\t\tprint_ports(port, \"TCP flag %s\" % pkt[TCP].flag)\n",
    "\t\t\telif pkt.haslayer(ICMP):\n",
    "\t\t\t\tprint_ports(port, \"ICMP resp / filtered\")\n",
    "\t\t\telse:\n",
    "\t\t\t\tprint_ports(port, \"Unknown resp\")\n",
    "\t\t\t\tprint(pkt.summary())\n",
    "\t\telse:\n",
    "\t\t\tprint_ports(port, \"Open / filtered\")\n",
    "\n",
    "target = \"127.0.0.1\"\n",
    "ports = [22,80]\n",
    "xmas_scan(target, ports)\n",
    "#else:\n",
    "#\tprint(\"Scan type not supported\")"
   ]
  },
  {
   "cell_type": "code",
   "execution_count": 51,
   "metadata": {},
   "outputs": [
    {
     "name": "stdout",
     "output_type": "stream",
     "text": [
      "Xmas scan on, 127.0.0.1 with ports [22, 80]\n",
      "22 | Open / filtered\n",
      "80 | Open / filtered\n"
     ]
    }
   ],
   "source": [
    "!python3 PortScanner.py -t \"127.0.0.1\" -s \"x\" -p \"22\" \"80\""
   ]
  },
  {
   "cell_type": "code",
   "execution_count": null,
   "metadata": {},
   "outputs": [],
   "source": []
  }
 ],
 "metadata": {
  "kernelspec": {
   "display_name": "Python 3",
   "language": "python",
   "name": "python3"
  },
  "language_info": {
   "codemirror_mode": {
    "name": "ipython",
    "version": 3
   },
   "file_extension": ".py",
   "mimetype": "text/x-python",
   "name": "python",
   "nbconvert_exporter": "python",
   "pygments_lexer": "ipython3",
   "version": "3.7.7"
  }
 },
 "nbformat": 4,
 "nbformat_minor": 2
}
