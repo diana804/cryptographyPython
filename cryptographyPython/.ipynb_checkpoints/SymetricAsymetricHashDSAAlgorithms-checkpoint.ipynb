{
 "cells": [
  {
   "cell_type": "code",
   "execution_count": null,
   "metadata": {},
   "outputs": [],
   "source": [
    "## Multiple Algorithms for CryptoOps [Sym, Asym, Hash, DSA, EllipticCurve]"
   ]
  },
  {
   "cell_type": "code",
   "execution_count": 1,
   "metadata": {},
   "outputs": [
    {
     "name": "stdout",
     "output_type": "stream",
     "text": [
      "ac3f091ca34109c5427afb46cf83b296e2004ca9e55d3b0da8aa7434f47c69ed\n"
     ]
    }
   ],
   "source": [
    "from Crypto.Hash import SHA256\n",
    "h = SHA256.new()\n",
    "h.update(b'Prueba')\n",
    "print(h.hexdigest())"
   ]
  },
  {
   "cell_type": "code",
   "execution_count": 2,
   "metadata": {},
   "outputs": [],
   "source": [
    "from Crypto.Hash import SHA256\n",
    "def check_password(clear_password, password_hash):\n",
    "    return SHA256.new(clear_password).hexdigest() == password_hash"
   ]
  },
  {
   "cell_type": "code",
   "execution_count": 3,
   "metadata": {},
   "outputs": [
    {
     "name": "stdout",
     "output_type": "stream",
     "text": [
      "b'\\xec\\xc2\\x9e\\xd9] a\\xd0'\n"
     ]
    },
    {
     "data": {
      "text/plain": [
       "b'abcdefgh'"
      ]
     },
     "execution_count": 3,
     "metadata": {},
     "output_type": "execute_result"
    }
   ],
   "source": [
    "from Crypto.Cipher import DES\n",
    "des = DES.new('01234567', DES.MODE_ECB)\n",
    "text = 'abcdefgh'\n",
    "cipher_text = des.encrypt(text)\n",
    "print(cipher_text)\n",
    "des.decrypt(cipher_text)"
   ]
  },
  {
   "cell_type": "code",
   "execution_count": 4,
   "metadata": {},
   "outputs": [
    {
     "name": "stdout",
     "output_type": "stream",
     "text": [
      "b'\\xe8\\xe5\\x8d\\xab\\xe1(\\x08\\xce\\xd6\\x1abhBu\\x08\\x84'\n"
     ]
    },
    {
     "data": {
      "text/plain": [
       "b'abcdefghijklmnop'"
      ]
     },
     "execution_count": 4,
     "metadata": {},
     "output_type": "execute_result"
    }
   ],
   "source": [
    "# Crypto with Sym DES mode CFB with IV\n",
    "from Crypto.Cipher import DES\n",
    "from Crypto import Random\n",
    "iv = Random.get_random_bytes(8)\n",
    "des1 = DES.new('01234567', DES.MODE_CFB, iv)\n",
    "des2 = DES.new('01234567', DES.MODE_CFB, iv)\n",
    "text = 'abcdefghijklmnop'\n",
    "cipher_text = des1.encrypt(text)\n",
    "print(cipher_text)\n",
    "des2.decrypt(cipher_text)"
   ]
  },
  {
   "cell_type": "code",
   "execution_count": 6,
   "metadata": {},
   "outputs": [
    {
     "name": "stdout",
     "output_type": "stream",
     "text": [
      "b'e[e\\xe3\\x82\\x82W\\xe9U\\x1a\\x8f\\x8b\\xab3%\\xc4'\n"
     ]
    },
    {
     "data": {
      "text/plain": [
       "b'Text Plain Test1'"
      ]
     },
     "execution_count": 6,
     "metadata": {},
     "output_type": "execute_result"
    }
   ],
   "source": [
    "# Symetric with AES\n",
    "from Crypto.Cipher import AES\n",
    "obj = AES.new('This is a keyabc', AES.MODE_CBC, 'This is an IV456')\n",
    "message = \"Text Plain Test1\"\n",
    "ciphertext = obj.encrypt(message)\n",
    "print(ciphertext)\n",
    "obj2 = AES.new('This is a keyabc', AES.MODE_CBC, 'This is an IV456')\n",
    "obj2.decrypt(ciphertext)"
   ]
  },
  {
   "cell_type": "code",
   "execution_count": 10,
   "metadata": {},
   "outputs": [
    {
     "name": "stdout",
     "output_type": "stream",
     "text": [
      "b'\\xf0\\xb7\\x90{#ABXY9\\xd06\\x9f\\xc0\\x8c '\n"
     ]
    },
    {
     "data": {
      "text/plain": [
       "b'abcdefghijklmnop'"
      ]
     },
     "execution_count": 10,
     "metadata": {},
     "output_type": "execute_result"
    }
   ],
   "source": [
    "from Crypto.Cipher import ARC4\n",
    "obj1 = ARC4.new('01234567')\n",
    "obj2 = ARC4.new('01234567')\n",
    "text = 'abcdefghijklmnop'\n",
    "cipher_text = obj1.encrypt(text)\n",
    "print(cipher_text)\n",
    "obj2.decrypt(cipher_text)"
   ]
  },
  {
   "cell_type": "code",
   "execution_count": 29,
   "metadata": {},
   "outputs": [
    {
     "name": "stdout",
     "output_type": "stream",
     "text": [
      "(b\"\\x82fs\\x16\\xb7\\x16\\xd8\\x03\\x9c\\xe6_\\x14\\x18\\xee\\x14-\\xd3\\\\Px\\x14\\xbd\\xee\\x85\\xfa\\xd9\\xc2pKC\\xd6\\x97\\x02\\xf5\\xcaW\\xe6\\x8f\\xb4J\\x9bf\\xd1\\xc8\\xf6\\xd0\\\\\\x91%\\xdd\\xd9\\xect\\xca\\xd0\\xf8\\x18*m\\x81<\\x96\\xf5\\xb6\\xa0\\x9e\\xe4\\x8c\\xa7g\\xba\\xca\\xb1\\xdb\\xb3y\\xdb\\x15\\xcd\\xe5\\xc6\\xb73x\\xc8\\xcb`nJ'\\x1e\\x06\\x1b\\xd6\\xcc\\xb5(d*\\x02\\xae6X*\\xa1\\x8f\\x0b\\xb9W\\x1ek\\x14\\\\\\xf4!B\\x1ei\\x1c&\\xef\\xee\\x01;\\xb5\\x9e\\x88\\x07M\\x85\\xc1\\xf4\\n$\\xe4\\xa1\\x88$\\xf7\\xe5\\xc2\\xafQg\\x90I~\\x94\\xf5\\xe8\\xa6\\x1c_\\xb3\\x14\\xe8Zg\\x01\\xeeq\\x99\\x95\\x01\\x01.\\x05]\\xc9\\xa7'[wN\\x1a 0;\\x0bRwg9n\\xe7\\xb4\\x0c`\\xa2i\\xb4\\xd2?\\xde*_x\\x85\\xddS\\x15\\x90\\xdc\\xae\\x13\\xfd\\xa0\\x96?\\x7f\\x8a\\x14V\\x96\\xe0\\x92\\x887M\\xc6\\xa2\\x06E]\\xfc\\xc0,\\x0f\\x0b\\x98\\xe1\\xb3\\xe7\\xa2\\x18\\xed\\x83K\\xe0\\xf2\\x06T\\x03\\x99\\xaa\\xd4,\\x8f\\x85Et\\nU]\\x12n\",)\n",
      "b'12345678'\n"
     ]
    }
   ],
   "source": [
    "from Crypto.PublicKey import RSA\n",
    "from Crypto import Random\n",
    "random_generator = Random.new().read\n",
    "key = RSA.generate(2048, random_generator)\n",
    "key.can_encrypt()\n",
    "key.can_sign()\n",
    "key.has_private()\n",
    "public_key = key.publickey()\n",
    "msg = b'12345678'\n",
    "enc_data = public_key.encrypt(msg, 32)\n",
    "print(enc_data)\n",
    "public_key = key.publickey()\n",
    "print(key.decrypt(enc_data))"
   ]
  },
  {
   "cell_type": "code",
   "execution_count": 36,
   "metadata": {},
   "outputs": [
    {
     "name": "stdout",
     "output_type": "stream",
     "text": [
      "Public key: (n=0xd83cee19bb70633e6304c63bae11f2180a977b05d0de6dae7681d9bf26ac5fd87fc5f6e1901b166ceb4f0236e527c2bd2503001ce859e9219c5fa51e78495a2dc59c92aec7e7850875284c7c50a36f3d88ba2295fd3b4442aab84aed96952d3680c78b2ccaffbbfbb3082e9f31b15ceff5cdbbebda8f6050cb2766db106d9e25, e=0x10001)\n",
      "Private key: (n=0xd83cee19bb70633e6304c63bae11f2180a977b05d0de6dae7681d9bf26ac5fd87fc5f6e1901b166ceb4f0236e527c2bd2503001ce859e9219c5fa51e78495a2dc59c92aec7e7850875284c7c50a36f3d88ba2295fd3b4442aab84aed96952d3680c78b2ccaffbbfbb3082e9f31b15ceff5cdbbebda8f6050cb2766db106d9e25, d=0x3f671e294d5c56bd242b72346d85b5867714936dd12066e890b6e231ba1530c53a31c181c1cf2f74204aba4b7e457a441b6615d2640e78dcf20cd94d65d79c28e54555af37f06537fc59847e29063c433b2d1ae5641d9613c21800568e661b08e2068ca24e343cd5ec31c4085aba7a10d8ba372d47e6782c4ec97fd273db5a01)\n",
      "Signature: 0x17951ba3d7ebcef0a0bd58d831d9f8422be8a4fce31ae437ff9f5fbb511add6bffdc82d017519b5a5e72d925ebb977f4eb67f2295382c73f19d43a83ff7762dfbccf53c4c18866dd14675fbcac2ad9be563a96cebad507fe1e20799f37bd2e970c92871dd9030562d0495c89d913ccad8d31a5eb0d9136a9532d4ef3da8e9312\n"
     ]
    }
   ],
   "source": [
    "from Crypto.Hash import SHA256\n",
    "from Crypto.PublicKey import RSA\n",
    "msg = b'A message for signing'\n",
    "from Crypto.PublicKey import RSA\n",
    "keyPair = RSA.generate(bits=1024)\n",
    "print(f\"Public key: (n={hex(keyPair.n)}, e={hex(keyPair.e)})\")\n",
    "print(f\"Private key: (n={hex(keyPair.n)}, d={hex(keyPair.d)})\")\n",
    "from hashlib import sha512\n",
    "hash = int.from_bytes(sha512(msg).digest(), byteorder='big')\n",
    "signature = pow(hash, keyPair.d, keyPair.n)\n",
    "print(\"Signature:\", hex(signature))"
   ]
  },
  {
   "cell_type": "code",
   "execution_count": 40,
   "metadata": {},
   "outputs": [
    {
     "name": "stdout",
     "output_type": "stream",
     "text": [
      "Signature valid: True\n"
     ]
    }
   ],
   "source": [
    "from Crypto.Random import random\n",
    "from Crypto.PublicKey import DSA\n",
    "from Crypto.Hash import SHA\n",
    "\n",
    "# RSA verify signature\n",
    "msg = b'A message for signing'\n",
    "hash = int.from_bytes(sha512(msg).digest(), byteorder='big')\n",
    "hashFromSignature = pow(signature, keyPair.e, keyPair.n)\n",
    "print(\"Signature valid:\", hash == hashFromSignature)"
   ]
  },
  {
   "cell_type": "code",
   "execution_count": 45,
   "metadata": {},
   "outputs": [
    {
     "name": "stdout",
     "output_type": "stream",
     "text": [
      "True\n",
      "True\n",
      "True\n"
     ]
    }
   ],
   "source": [
    "# Criptosistema Híbrido para Firma Digital usando cálculo de claves\n",
    "# por curvas elípticas (parámetros Curve P256, P224) y hashing vía SHA2 y SHA3\n",
    "from fastecdsa import curve, ecdsa, keys\n",
    "from hashlib import sha384\n",
    "m = \"Test Message\"\n",
    "# formato de curva y de algoritmo de hashing (P256 and SHA256)\n",
    "private_key = keys.gen_private_key(curve.P256)\n",
    "public_key = keys.get_public_key(private_key, curve.P256)\n",
    "r, s = ecdsa.sign(m, private_key)\n",
    "# Debe retornar TRUE\n",
    "valid = ecdsa.verify((r, s), m, public_key)\n",
    "print(valid)\n",
    "##'Aumentar Sec con sha384 ECDSA '''\n",
    "r, s = ecdsa.sign(m, private_key, hashfunc=sha384)\n",
    "valid = ecdsa.verify((r, s), m, public_key, hashfunc=sha384)\n",
    "print(valid)\n",
    "##''' Otra Curva ECDSA '''\n",
    "private_key = keys.gen_private_key(curve.P224)\n",
    "public_key = keys.get_public_key(private_key, curve.P224)\n",
    "r, s = ecdsa.sign(m, private_key, curve=curve.P224)\n",
    "valid = ecdsa.verify((r, s), m, public_key, curve=curve.P224)\n",
    "print(valid)"
   ]
  },
  {
   "cell_type": "code",
   "execution_count": null,
   "metadata": {},
   "outputs": [],
   "source": []
  }
 ],
 "metadata": {
  "kernelspec": {
   "display_name": "Python 3",
   "language": "python",
   "name": "python3"
  },
  "language_info": {
   "codemirror_mode": {
    "name": "ipython",
    "version": 3
   },
   "file_extension": ".py",
   "mimetype": "text/x-python",
   "name": "python",
   "nbconvert_exporter": "python",
   "pygments_lexer": "ipython3",
   "version": "3.8.5"
  }
 },
 "nbformat": 4,
 "nbformat_minor": 2
}
